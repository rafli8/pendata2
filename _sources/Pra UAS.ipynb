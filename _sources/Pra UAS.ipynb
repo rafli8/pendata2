{
 "cells": [
  {
   "cell_type": "markdown",
   "metadata": {},
   "source": [
    "# Pra UAS"
   ]
  },
  {
   "cell_type": "markdown",
   "metadata": {
    "cell_id": "3ac4b898922142e78c5d3f1b603b3d44",
    "deepnote_cell_type": "text-cell-h1",
    "formattedRanges": []
   },
   "source": [
    "# Pendahuluan"
   ]
  },
  {
   "cell_type": "markdown",
   "metadata": {
    "cell_id": "e87d9fc896514b8db18f3409c12f23dc",
    "deepnote_cell_type": "text-cell-p",
    "formattedRanges": []
   },
   "source": [
    "Diabetes adalah salah satu penyakit kronis paling umum dan mematikan di seluruh dunia, yang memicu komplikasi serius seperti penyakit jantung, stroke, gagal ginjal, kebutaan, dan amputasi. Permasalahan utamanya adalah seringnya diabetes terdiagnosis terlambat, ketika komplikasi sudah mulai muncul, karena gejala awal yang samar atau kurangnya kesadaran akan faktor risiko. Deteksi dini dan pemahaman mendalam tentang faktor-faktor yang berkontribusi terhadap diabetes sangat penting untuk meningkatkan peluang pengelolaan penyakit, mencegah komplikasi, dan mengurangi beban kesehatan masyarakat."
   ]
  },
  {
   "cell_type": "markdown",
   "metadata": {
    "cell_id": "5646e318474f4947ba5779100f530ccb",
    "deepnote_cell_type": "text-cell-p",
    "formattedRanges": []
   },
   "source": [
    "Dataset \"CDC Diabetes Health Indicators\" bertujuan untuk mengatasi masalah ini dengan menyediakan data komprehensif mengenai indikator kesehatan dan gaya hidup, memungkinkan identifikasi dini individu berisiko tinggi dan pemahaman pola-pola yang berkaitan dengan prevalensi diabetes, guna mendukung upaya pencegahan dan intervensi yang lebih efektif."
   ]
  },
  {
   "cell_type": "markdown",
   "metadata": {
    "cell_id": "4e0162fd48a74312825bedccebecd9d7",
    "deepnote_cell_type": "text-cell-h1",
    "formattedRanges": []
   },
   "source": [
    "# Data Understanding"
   ]
  },
  {
   "cell_type": "markdown",
   "metadata": {
    "cell_id": "d670b2a310134840b9927fd00d9d8833",
    "deepnote_cell_type": "text-cell-h2",
    "formattedRanges": []
   },
   "source": [
    "## Sumber Data"
   ]
  },
  {
   "cell_type": "markdown",
   "metadata": {
    "cell_id": "9c8655af348144cfacd748b3e367fdd5",
    "deepnote_cell_type": "text-cell-p",
    "formattedRanges": []
   },
   "source": [
    "Dataset diambil dari link dibawah ini:"
   ]
  },
  {
   "cell_type": "markdown",
   "metadata": {
    "cell_id": "d81a35b1ed214f2aa355fce33801883b",
    "deepnote_cell_type": "text-cell-p",
    "formattedRanges": [
     {
      "fromCodePoint": 0,
      "ranges": [],
      "toCodePoint": 57,
      "type": "link",
      "url": "https://archive.ics.uci.edu/dataset/161/mammographic+mass"
     }
    ]
   },
   "source": [
    "https://archive.ics.uci.edu/dataset/891/cdc+diabetes+health+indicators"
   ]
  },
  {
   "cell_type": "markdown",
   "metadata": {
    "cell_id": "4b1e86d1b0794a86ba26076c1f28ad33",
    "deepnote_cell_type": "text-cell-h2",
    "formattedRanges": []
   },
   "source": [
    "## Tujuan "
   ]
  },
  {
   "cell_type": "markdown",
   "metadata": {
    "cell_id": "47fe261be21e43479d66e99d00637df4",
    "deepnote_cell_type": "text-cell-p",
    "formattedRanges": []
   },
   "source": [
    "Tujuan penggunaan dataset ..."
   ]
  },
  {
   "cell_type": "markdown",
   "metadata": {
    "cell_id": "b146c5cad73d445784b51fffdd007972",
    "deepnote_cell_type": "text-cell-h2",
    "formattedRanges": []
   },
   "source": [
    "## Integrasi Data"
   ]
  },
  {
   "cell_type": "markdown",
   "metadata": {
    "cell_id": "55df65391a154789902b052b73e3ee8e",
    "deepnote_cell_type": "text-cell-p",
    "formattedRanges": [
     {
      "fromCodePoint": 290,
      "marks": {
       "bold": true
      },
      "toCodePoint": 307,
      "type": "marks"
     }
    ]
   },
   "source": [
    "untuk mengambil data agar dapat diolah, perlu untuk menginstall package yang telah disediakan oleh UCI Dataset. Instalasi dilakukan berguna untuk menarik data yang berasal dari UCI dataset agar dapat diolah. peritah untuk mengambil data dari UCI dataset dapat di lihat ketika menekan tombol import in python pada datase yang diinginkan dan ikuti perintah tersebut agar data dapat diambil dari UCI dataset. Contoh pengambilan data dari UCI dataset dapat dilihat pada gambar dan perintah berikut:"
   ]
  },
  {
   "cell_type": "code",
   "execution_count": 1,
   "metadata": {
    "cell_id": "1907e21b1fed4ab69b5e1a3fd1a968ad",
    "deepnote_cell_type": "code",
    "deepnote_to_be_reexecuted": false,
    "execution_millis": 4232,
    "execution_start": 1719416385937,
    "source_hash": "e763c2b5"
   },
   "outputs": [
    {
     "name": "stdout",
     "output_type": "stream",
     "text": [
      "Collecting ucimlrepo\n",
      "  Downloading ucimlrepo-0.0.7-py3-none-any.whl (8.0 kB)\n",
      "Requirement already satisfied: pandas>=1.0.0 in /shared-libs/python3.9/py/lib/python3.9/site-packages (from ucimlrepo) (2.1.4)\n",
      "Requirement already satisfied: certifi>=2020.12.5 in /shared-libs/python3.9/py/lib/python3.9/site-packages (from ucimlrepo) (2022.9.24)\n",
      "Requirement already satisfied: python-dateutil>=2.8.2 in /shared-libs/python3.9/py-core/lib/python3.9/site-packages (from pandas>=1.0.0->ucimlrepo) (2.8.2)\n",
      "Requirement already satisfied: pytz>=2020.1 in /shared-libs/python3.9/py/lib/python3.9/site-packages (from pandas>=1.0.0->ucimlrepo) (2022.5)\n",
      "Requirement already satisfied: numpy<2,>=1.22.4 in /shared-libs/python3.9/py/lib/python3.9/site-packages (from pandas>=1.0.0->ucimlrepo) (1.23.4)\n",
      "Requirement already satisfied: tzdata>=2022.1 in /shared-libs/python3.9/py/lib/python3.9/site-packages (from pandas>=1.0.0->ucimlrepo) (2022.5)\n",
      "Requirement already satisfied: six>=1.5 in /shared-libs/python3.9/py-core/lib/python3.9/site-packages (from python-dateutil>=2.8.2->pandas>=1.0.0->ucimlrepo) (1.16.0)\n",
      "Installing collected packages: ucimlrepo\n",
      "Successfully installed ucimlrepo-0.0.7\n",
      "\u001b[33mWARNING: Running pip as the 'root' user can result in broken permissions and conflicting behaviour with the system package manager. It is recommended to use a virtual environment instead: https://pip.pypa.io/warnings/venv\u001b[0m\u001b[33m\n",
      "\u001b[0m\n",
      "\u001b[1m[\u001b[0m\u001b[34;49mnotice\u001b[0m\u001b[1;39;49m]\u001b[0m\u001b[39;49m A new release of pip is available: \u001b[0m\u001b[31;49m23.0.1\u001b[0m\u001b[39;49m -> \u001b[0m\u001b[32;49m24.1\u001b[0m\n",
      "\u001b[1m[\u001b[0m\u001b[34;49mnotice\u001b[0m\u001b[1;39;49m]\u001b[0m\u001b[39;49m To update, run: \u001b[0m\u001b[32;49mpython -m pip install --upgrade pip\u001b[0m\n",
      "Note: you may need to restart the kernel to use updated packages.\n"
     ]
    }
   ],
   "source": [
    "pip install ucimlrepo"
   ]
  }
 ],
 "metadata": {
  "deepnote_execution_queue": [],
  "deepnote_notebook_id": "a1753b2b43e54b9782a7eb6eeaf13347",
  "language_info": {
   "name": "python"
  }
 },
 "nbformat": 4,
 "nbformat_minor": 0
}
