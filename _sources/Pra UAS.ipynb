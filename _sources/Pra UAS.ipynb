{
 "cells": [
  {
   "cell_type": "markdown",
   "metadata": {
    "cell_id": "3ac4b898922142e78c5d3f1b603b3d44",
    "deepnote_cell_type": "text-cell-h1",
    "formattedRanges": []
   },
   "source": [
    "# Pendahuluan"
   ]
  },
  {
   "cell_type": "markdown",
   "metadata": {
    "cell_id": "e87d9fc896514b8db18f3409c12f23dc",
    "deepnote_cell_type": "text-cell-p",
    "formattedRanges": []
   },
   "source": [
    "Diabetes adalah salah satu penyakit kronis paling umum dan mematikan di seluruh dunia, yang memicu komplikasi serius seperti penyakit jantung, stroke, gagal ginjal, kebutaan, dan amputasi. Permasalahan utamanya adalah seringnya diabetes terdiagnosis terlambat, ketika komplikasi sudah mulai muncul, karena gejala awal yang samar atau kurangnya kesadaran akan faktor risiko. Deteksi dini dan pemahaman mendalam tentang faktor-faktor yang berkontribusi terhadap diabetes sangat penting untuk meningkatkan peluang pengelolaan penyakit, mencegah komplikasi, dan mengurangi beban kesehatan masyarakat. "
   ]
  },
  {
   "cell_type": "markdown",
   "metadata": {
    "cell_id": "5646e318474f4947ba5779100f530ccb",
    "deepnote_cell_type": "text-cell-p",
    "formattedRanges": []
   },
   "source": [
    "Dataset \"CDC Diabetes Health Indicators\" bertujuan untuk mengatasi masalah ini dengan menyediakan data komprehensif mengenai indikator kesehatan dan gaya hidup, memungkinkan identifikasi dini individu berisiko tinggi dan pemahaman pola-pola yang berkaitan dengan prevalensi diabetes, guna mendukung upaya pencegahan dan intervensi yang lebih efektif."
   ]
  },
  {
   "cell_type": "markdown",
   "metadata": {
    "cell_id": "4e0162fd48a74312825bedccebecd9d7",
    "deepnote_cell_type": "text-cell-h1",
    "formattedRanges": []
   },
   "source": [
    "# Data Understanding"
   ]
  },
  {
   "cell_type": "markdown",
   "metadata": {
    "cell_id": "d670b2a310134840b9927fd00d9d8833",
    "deepnote_cell_type": "text-cell-h2",
    "formattedRanges": []
   },
   "source": [
    "## Sumber Data"
   ]
  },
  {
   "cell_type": "markdown",
   "metadata": {
    "cell_id": "9c8655af348144cfacd748b3e367fdd5",
    "deepnote_cell_type": "text-cell-p",
    "formattedRanges": []
   },
   "source": [
    "Dataset diambil dari link dibawah ini:"
   ]
  },
  {
   "cell_type": "markdown",
   "metadata": {
    "cell_id": "d81a35b1ed214f2aa355fce33801883b",
    "deepnote_cell_type": "text-cell-p",
    "formattedRanges": [
     {
      "fromCodePoint": 0,
      "ranges": [],
      "toCodePoint": 57,
      "type": "link",
      "url": "https://archive.ics.uci.edu/dataset/161/mammographic+mass"
     }
    ]
   },
   "source": [
    "https://archive.ics.uci.edu/dataset/891/cdc+diabetes+health+indicators"
   ]
  },
  {
   "cell_type": "markdown",
   "metadata": {
    "cell_id": "4b1e86d1b0794a86ba26076c1f28ad33",
    "deepnote_cell_type": "text-cell-h2",
    "formattedRanges": []
   },
   "source": [
    "## Tujuan "
   ]
  },
  {
   "cell_type": "markdown",
   "metadata": {
    "cell_id": "47fe261be21e43479d66e99d00637df4",
    "deepnote_cell_type": "text-cell-p",
    "formattedRanges": []
   },
   "source": [
    "Tujuan penggunaan dataset ..."
   ]
  },
  {
   "cell_type": "markdown",
   "metadata": {
    "cell_id": "b146c5cad73d445784b51fffdd007972",
    "deepnote_cell_type": "text-cell-h2",
    "formattedRanges": []
   },
   "source": [
    "## Integrasi Data"
   ]
  },
  {
   "cell_type": "markdown",
   "metadata": {
    "cell_id": "55df65391a154789902b052b73e3ee8e",
    "deepnote_cell_type": "text-cell-p",
    "formattedRanges": [
     {
      "fromCodePoint": 290,
      "marks": {
       "bold": true
      },
      "toCodePoint": 307,
      "type": "marks"
     }
    ]
   },
   "source": [
    "untuk mengambil data agar dapat diolah, perlu untuk menginstall package yang telah disediakan oleh UCI Dataset. Instalasi dilakukan berguna untuk menarik data yang berasal dari UCI dataset agar dapat diolah. peritah untuk mengambil data dari UCI dataset dapat di lihat ketika menekan tombol import in python pada datase yang diinginkan dan ikuti perintah tersebut agar data dapat diambil dari UCI dataset. Contoh pengambilan data dari UCI dataset dapat dilihat pada gambar dan perintah berikut:"
   ]
  },
  {
   "cell_type": "markdown",
   "metadata": {
    "cell_id": "436af2fd3fab45d29419720330b39a53",
    "deepnote_cell_type": "image",
    "deepnote_img_src": "image-20240624-182708.png"
   },
   "source": [
    "<img src=\"image-20240624-182708.png\" width=\"\" align=\"\" />"
   ]
  },
  {
   "cell_type": "code",
   "execution_count": 1,
   "metadata": {
    "cell_id": "1907e21b1fed4ab69b5e1a3fd1a968ad",
    "deepnote_cell_type": "code",
    "deepnote_to_be_reexecuted": false,
    "execution_millis": 4232,
    "execution_start": 1719416385937,
    "source_hash": "e763c2b5"
   },
   "outputs": [
    {
     "name": "stdout",
     "output_type": "stream",
     "text": [
      "Collecting ucimlrepo\n",
      "  Downloading ucimlrepo-0.0.7-py3-none-any.whl (8.0 kB)\n",
      "Requirement already satisfied: pandas>=1.0.0 in /shared-libs/python3.9/py/lib/python3.9/site-packages (from ucimlrepo) (2.1.4)\n",
      "Requirement already satisfied: certifi>=2020.12.5 in /shared-libs/python3.9/py/lib/python3.9/site-packages (from ucimlrepo) (2022.9.24)\n",
      "Requirement already satisfied: python-dateutil>=2.8.2 in /shared-libs/python3.9/py-core/lib/python3.9/site-packages (from pandas>=1.0.0->ucimlrepo) (2.8.2)\n",
      "Requirement already satisfied: pytz>=2020.1 in /shared-libs/python3.9/py/lib/python3.9/site-packages (from pandas>=1.0.0->ucimlrepo) (2022.5)\n",
      "Requirement already satisfied: numpy<2,>=1.22.4 in /shared-libs/python3.9/py/lib/python3.9/site-packages (from pandas>=1.0.0->ucimlrepo) (1.23.4)\n",
      "Requirement already satisfied: tzdata>=2022.1 in /shared-libs/python3.9/py/lib/python3.9/site-packages (from pandas>=1.0.0->ucimlrepo) (2022.5)\n",
      "Requirement already satisfied: six>=1.5 in /shared-libs/python3.9/py-core/lib/python3.9/site-packages (from python-dateutil>=2.8.2->pandas>=1.0.0->ucimlrepo) (1.16.0)\n",
      "Installing collected packages: ucimlrepo\n",
      "Successfully installed ucimlrepo-0.0.7\n",
      "\u001b[33mWARNING: Running pip as the 'root' user can result in broken permissions and conflicting behaviour with the system package manager. It is recommended to use a virtual environment instead: https://pip.pypa.io/warnings/venv\u001b[0m\u001b[33m\n",
      "\u001b[0m\n",
      "\u001b[1m[\u001b[0m\u001b[34;49mnotice\u001b[0m\u001b[1;39;49m]\u001b[0m\u001b[39;49m A new release of pip is available: \u001b[0m\u001b[31;49m23.0.1\u001b[0m\u001b[39;49m -> \u001b[0m\u001b[32;49m24.1\u001b[0m\n",
      "\u001b[1m[\u001b[0m\u001b[34;49mnotice\u001b[0m\u001b[1;39;49m]\u001b[0m\u001b[39;49m To update, run: \u001b[0m\u001b[32;49mpython -m pip install --upgrade pip\u001b[0m\n",
      "Note: you may need to restart the kernel to use updated packages.\n"
     ]
    }
   ],
   "source": [
    "pip install ucimlrepo"
   ]
  },
  {
   "cell_type": "code",
   "execution_count": 2,
   "metadata": {
    "cell_id": "e776c1b9541d4114a8886b735d45dde8",
    "deepnote_cell_type": "code",
    "deepnote_to_be_reexecuted": false,
    "execution_millis": 1037,
    "execution_start": 1719416390175,
    "source_hash": "c74ba86a"
   },
   "outputs": [
    {
     "name": "stdout",
     "output_type": "stream",
     "text": [
      "<class 'pandas.core.frame.DataFrame'>\n",
      "RangeIndex: 961 entries, 0 to 960\n",
      "Data columns (total 6 columns):\n",
      " #   Column    Non-Null Count  Dtype  \n",
      "---  ------    --------------  -----  \n",
      " 0   BI-RADS   959 non-null    float64\n",
      " 1   Age       956 non-null    float64\n",
      " 2   Shape     930 non-null    float64\n",
      " 3   Margin    913 non-null    float64\n",
      " 4   Density   885 non-null    float64\n",
      " 5   Severity  961 non-null    int64  \n",
      "dtypes: float64(5), int64(1)\n",
      "memory usage: 45.2 KB\n",
      "None\n",
      "   BI-RADS   Age  Shape  Margin  Density  Severity\n",
      "0      5.0  67.0    3.0     5.0      3.0         1\n",
      "1      4.0  43.0    1.0     1.0      NaN         1\n",
      "2      5.0  58.0    4.0     5.0      3.0         1\n",
      "3      4.0  28.0    1.0     1.0      3.0         0\n",
      "4      5.0  74.0    1.0     5.0      NaN         1\n"
     ]
    }
   ],
   "source": [
    "from ucimlrepo import fetch_ucirepo \n",
    "  \n",
    "# fetch dataset \n",
    "mammographic_mass = fetch_ucirepo(id=161) \n",
    "  \n",
    "# data (as pandas dataframes) \n",
    "X = mammographic_mass.data.features \n",
    "y = mammographic_mass.data.targets \n",
    "  \n",
    "## data (as pandas dataframes) \n",
    "data = mammographic_mass.data.original \n",
    "  # menyimpan hasil komputasi ke dalam csv\n",
    "data.to_csv(\"mammographic_mass.csv\", index=True)\n",
    "print(data.info()) #untuk menampilkan info fitur-fitur yang ada di tabel\n",
    "\n",
    "print(data.head()) #untuk menampilkan 5 baris pertama\n"
   ]
  },
  {
   "cell_type": "markdown",
   "metadata": {
    "cell_id": "e0f843d90b2c4a3f8b6455cace78f71d",
    "deepnote_cell_type": "text-cell-h2",
    "formattedRanges": []
   },
   "source": [
    "## Eksplorasi Data"
   ]
  },
  {
   "cell_type": "markdown",
   "metadata": {
    "cell_id": "4557e4991b8f447e9538c5d8bf645c27",
    "deepnote_cell_type": "text-cell-h3",
    "formattedRanges": []
   },
   "source": [
    "### Visualisasi Data"
   ]
  },
  {
   "cell_type": "code",
   "execution_count": null,
   "metadata": {
    "cell_id": "a5eb1d1c480e4932a316f41533000477",
    "deepnote_cell_type": "code",
    "deepnote_table_invalid": false,
    "deepnote_table_loading": false,
    "deepnote_table_state": {
     "filters": [],
     "pageIndex": 0,
     "pageSize": 10,
     "sortBy": []
    },
    "deepnote_to_be_reexecuted": false,
    "execution_millis": 153,
    "execution_start": 1719416391215,
    "source_hash": "b03ad189"
   },
   "outputs": [],
   "source": [
    "display(data) #display dataset"
   ]
  },
  {
   "cell_type": "code",
   "execution_count": null,
   "metadata": {
    "cell_id": "2eabecb4e4f14f3487a120c9c56e39a3",
    "deepnote_cell_type": "code",
    "deepnote_to_be_reexecuted": false,
    "execution_millis": 1772,
    "execution_start": 1719416391317,
    "source_hash": "475d2376"
   },
   "outputs": [],
   "source": [
    "import pandas as pd\n",
    "import seaborn as sns\n",
    "import matplotlib.pyplot as plt\n",
    "plt.figure(figsize=(8, 6))\n",
    "sns.countplot(x='Severity', data=data, palette='viridis')\n",
    "plt.title('Jumlah Sampel per Label')\n",
    "plt.xlabel('Label')\n",
    "plt.ylabel('Jumlah Sampel')\n",
    "plt.show()"
   ]
  },
  {
   "cell_type": "code",
   "execution_count": null,
   "metadata": {
    "cell_id": "4c42d08aea0b421085fd62807d435909",
    "deepnote_cell_type": "code",
    "deepnote_to_be_reexecuted": false,
    "execution_millis": 1259,
    "execution_start": 1719416393139,
    "source_hash": "a54640b1"
   },
   "outputs": [],
   "source": [
    "# Visualisasi distribusi fitur dengan histogram\n",
    "plt.figure(figsize=(12, 10))\n",
    "data.hist(bins=30, figsize=(15, 10), color='blue')\n",
    "plt.suptitle('Distribusi Fitur')\n",
    "plt.show()"
   ]
  },
  {
   "cell_type": "markdown",
   "metadata": {
    "cell_id": "181b84d0007e414e9216826075cedb52",
    "deepnote_cell_type": "text-cell-h2",
    "formattedRanges": []
   },
   "source": [
    "## Struktur Dataset"
   ]
  },
  {
   "cell_type": "markdown",
   "metadata": {
    "cell_id": "ab7396cdb18f48b4bf53003fc21f1590",
    "deepnote_cell_type": "text-cell-h3",
    "formattedRanges": []
   },
   "source": [
    "### Fitur dan Label"
   ]
  },
  {
   "cell_type": "code",
   "execution_count": null,
   "metadata": {
    "cell_id": "52d1396508904caaa39b9b807089df63",
    "deepnote_cell_type": "code",
    "deepnote_to_be_reexecuted": false,
    "execution_millis": 345,
    "execution_start": 1719416394403,
    "source_hash": "4b75ed4e"
   },
   "outputs": [],
   "source": [
    "data.shape #untuk mengetahui bentuk dataset(baris & kolom)"
   ]
  },
  {
   "cell_type": "markdown",
   "metadata": {
    "cell_id": "dfa8a51de9724737b73e1ed6ead7b0b3",
    "deepnote_cell_type": "text-cell-p",
    "formattedRanges": [
     {
      "fromCodePoint": 9,
      "marks": {
       "bold": true
      },
      "toCodePoint": 18,
      "type": "marks"
     },
     {
      "fromCodePoint": 23,
      "marks": {
       "bold": true
      },
      "toCodePoint": 30,
      "type": "marks"
     }
    ]
   },
   "source": [
    "Terdapat 961 baris dan 6 kolom."
   ]
  },
  {
   "cell_type": "code",
   "execution_count": 7,
   "metadata": {
    "cell_id": "6aba273f7b5c4e46b62e9c5a3fa169a5",
    "deepnote_cell_type": "code",
    "deepnote_to_be_reexecuted": false,
    "execution_millis": 334,
    "execution_start": 1719416394415,
    "source_hash": "7d96bfe4"
   },
   "outputs": [
    {
     "data": {
      "text/plain": [
       "Index(['BI-RADS', 'Age', 'Shape', 'Margin', 'Density', 'Severity'], dtype='object')"
      ]
     },
     "execution_count": 7,
     "metadata": {},
     "output_type": "execute_result"
    }
   ],
   "source": [
    "data.columns #untuk mengetahui kolom-kolom yang ada pada dataset"
   ]
  },
  {
   "cell_type": "markdown",
   "metadata": {
    "cell_id": "5f1f882d25b7456b9418ffa4f7e58103",
    "deepnote_cell_type": "text-cell-p",
    "formattedRanges": [
     {
      "fromCodePoint": 0,
      "marks": {
       "bold": true
      },
      "toCodePoint": 6,
      "type": "marks"
     }
    ]
   },
   "source": [
    "Fitur adalah atribut atau variabel independen dalam dataset yang digunakan untuk membuat prediksi."
   ]
  },
  {
   "cell_type": "markdown",
   "metadata": {
    "cell_id": "2c0f6121e2604244b2c9c3cc40cd54fd",
    "deepnote_cell_type": "text-cell-p",
    "formattedRanges": [
     {
      "fromCodePoint": 0,
      "marks": {
       "bold": true
      },
      "toCodePoint": 16,
      "type": "marks"
     }
    ]
   },
   "source": [
    "Terdapat 5 fitur pada dataset ini:"
   ]
  },
  {
   "cell_type": "markdown",
   "metadata": {
    "cell_id": "f2ecc020083d456c809e3c4ead955d24",
    "deepnote_cell_type": "text-cell-bullet",
    "formattedRanges": [
     {
      "fromCodePoint": 0,
      "marks": {
       "bold": true
      },
      "toCodePoint": 8,
      "type": "marks"
     }
    ]
   },
   "source": [
    "- BI-RADS : berisi penilaian BI-RADS. BI-RADS sendiri merupakan singkatan dari Breast Imaging Reporting and Data System yang merupakan sistem standar yang dikembangkan oleh American College of Radiology (ACR) untuk membantu dalam pelaporan dan interpretasi hasil pencitraan payudara, termasuk mammografi, ultrasound payudara, dan MRI payudara."
   ]
  },
  {
   "cell_type": "markdown",
   "metadata": {
    "cell_id": "c21c1c66d2a349338ad2869ff0301168",
    "deepnote_cell_type": "text-cell-bullet",
    "formattedRanges": [
     {
      "fromCodePoint": 0,
      "marks": {
       "bold": true
      },
      "toCodePoint": 4,
      "type": "marks"
     }
    ]
   },
   "source": [
    "- Age : berisi usia pasien saat mammografi, dalam tahun. "
   ]
  },
  {
   "cell_type": "markdown",
   "metadata": {
    "cell_id": "77319bd563854a968987f05324770896",
    "deepnote_cell_type": "text-cell-bullet",
    "formattedRanges": [
     {
      "fromCodePoint": 0,
      "marks": {
       "bold": true
      },
      "toCodePoint": 5,
      "type": "marks"
     }
    ]
   },
   "source": [
    "- Shape : berisi bentuk massa yang ditemukan pada mammografi. "
   ]
  },
  {
   "cell_type": "markdown",
   "metadata": {
    "cell_id": "826311c18a4d4a6ebd3bd4b41fa0e2f5",
    "deepnote_cell_type": "text-cell-bullet",
    "formattedRanges": [
     {
      "fromCodePoint": 0,
      "marks": {
       "bold": true
      },
      "toCodePoint": 7,
      "type": "marks"
     }
    ]
   },
   "source": [
    "- Margin : berisi batas massa, yang menggambarkan tepi dari massa tersebut.  "
   ]
  },
  {
   "cell_type": "markdown",
   "metadata": {
    "cell_id": "3c7dc3ec8b524dbfb583ea637ffe68da",
    "deepnote_cell_type": "text-cell-bullet",
    "formattedRanges": [
     {
      "fromCodePoint": 0,
      "marks": {
       "bold": true
      },
      "toCodePoint": 8,
      "type": "marks"
     }
    ]
   },
   "source": [
    "- Density : berisi densitas atau kerapatan massa pada mammografi."
   ]
  },
  {
   "cell_type": "markdown",
   "metadata": {
    "cell_id": "25563a18ff534f298de14a39c22e1169",
    "deepnote_cell_type": "text-cell-p",
    "formattedRanges": [
     {
      "fromCodePoint": 0,
      "marks": {
       "bold": true
      },
      "toCodePoint": 5,
      "type": "marks"
     }
    ]
   },
   "source": [
    "Label adalah variabel dependen atau target yang ingin diprediksi oleh model machine learning. Label merupakan output yang dipelajari oleh model dari data. "
   ]
  },
  {
   "cell_type": "markdown",
   "metadata": {
    "cell_id": "d3aa8f3b7022490d907082097dc690d9",
    "deepnote_cell_type": "text-cell-p",
    "formattedRanges": [
     {
      "fromCodePoint": 0,
      "marks": {
       "bold": true
      },
      "toCodePoint": 36,
      "type": "marks"
     }
    ]
   },
   "source": [
    "Terdapat 1 field label dengan 2 tipe pada dataset ini:"
   ]
  },
  {
   "cell_type": "markdown",
   "metadata": {
    "cell_id": "956bd31de4a147b58c445fa6990ad142",
    "deepnote_cell_type": "text-cell-bullet",
    "formattedRanges": [
     {
      "fromCodePoint": 0,
      "marks": {
       "bold": true
      },
      "toCodePoint": 6,
      "type": "marks"
     },
     {
      "fromCodePoint": 40,
      "marks": {
       "bold": true
      },
      "toCodePoint": 41,
      "type": "marks"
     }
    ]
   },
   "source": [
    "- Benign(jinak) dilambangkan dengan angka 0."
   ]
  },
  {
   "cell_type": "markdown",
   "metadata": {
    "cell_id": "2eebc0785690481a9cce9005a8996784",
    "deepnote_cell_type": "text-cell-bullet",
    "formattedRanges": [
     {
      "fromCodePoint": 0,
      "marks": {
       "bold": true
      },
      "toCodePoint": 9,
      "type": "marks"
     },
     {
      "fromCodePoint": 43,
      "marks": {
       "bold": true
      },
      "toCodePoint": 44,
      "type": "marks"
     }
    ]
   },
   "source": [
    "- Malignant(ganas) dilambangkan dengan angka 1."
   ]
  },
  {
   "cell_type": "code",
   "execution_count": 8,
   "metadata": {
    "cell_id": "75da849d630e4adbba6be01ce43377c1",
    "deepnote_cell_type": "code",
    "deepnote_to_be_reexecuted": false,
    "execution_millis": 292,
    "execution_start": 1719416394457,
    "source_hash": "a6c85c82"
   },
   "outputs": [
    {
     "data": {
      "text/plain": [
       "BI-RADS     float64\n",
       "Age         float64\n",
       "Shape       float64\n",
       "Margin      float64\n",
       "Density     float64\n",
       "Severity      int64\n",
       "dtype: object"
      ]
     },
     "execution_count": 8,
     "metadata": {},
     "output_type": "execute_result"
    }
   ],
   "source": [
    "data.dtypes #untuk mengetahui tipe data dari masing-masing kolom"
   ]
  },
  {
   "cell_type": "markdown",
   "metadata": {
    "cell_id": "ad029fc3f23449aa9ba146eef379e364",
    "deepnote_cell_type": "text-cell-p",
    "formattedRanges": []
   },
   "source": [
    "Lebih jelas:"
   ]
  },
  {
   "cell_type": "markdown",
   "metadata": {
    "cell_id": "0305dd5ce35e46eeb3ed72b5bcca89f8",
    "deepnote_cell_type": "text-cell-p",
    "formattedRanges": [
     {
      "fromCodePoint": 0,
      "marks": {
       "bold": true
      },
      "toCodePoint": 7,
      "type": "marks"
     }
    ]
   },
   "source": [
    "BI-RADS(kategorikal ordinal)"
   ]
  },
  {
   "cell_type": "markdown",
   "metadata": {
    "cell_id": "007120931c574ee69b818b2bd6d89b68",
    "deepnote_cell_type": "text-cell-p",
    "formattedRanges": []
   },
   "source": [
    "Berisi nilai dari tes BI-RADS yang dilakukan pasien."
   ]
  },
  {
   "cell_type": "markdown",
   "metadata": {
    "cell_id": "6442e6919d4642419271c936f15c8ceb",
    "deepnote_cell_type": "text-cell-p",
    "formattedRanges": [
     {
      "fromCodePoint": 0,
      "marks": {
       "bold": true
      },
      "toCodePoint": 3,
      "type": "marks"
     }
    ]
   },
   "source": [
    "Age(numerik)"
   ]
  },
  {
   "cell_type": "markdown",
   "metadata": {
    "cell_id": "818cd345c39f42dba23ec87b6e97d9e6",
    "deepnote_cell_type": "text-cell-p",
    "formattedRanges": []
   },
   "source": [
    "Berisi usia pasien dalam tahun."
   ]
  },
  {
   "cell_type": "markdown",
   "metadata": {
    "cell_id": "56112e81b7604756882b7c0cc6912096",
    "deepnote_cell_type": "text-cell-p",
    "formattedRanges": [
     {
      "fromCodePoint": 0,
      "marks": {
       "bold": true
      },
      "toCodePoint": 5,
      "type": "marks"
     }
    ]
   },
   "source": [
    "Shape(kategorikal nominal)"
   ]
  },
  {
   "cell_type": "markdown",
   "metadata": {
    "cell_id": "49c99467cd764cddbdf23995b8cfc3e1",
    "deepnote_cell_type": "text-cell-bullet",
    "formattedRanges": []
   },
   "source": [
    "- 1 = bulat"
   ]
  },
  {
   "cell_type": "markdown",
   "metadata": {
    "cell_id": "9e763b37297c429785952702c35e6a2d",
    "deepnote_cell_type": "text-cell-bullet",
    "formattedRanges": []
   },
   "source": [
    "- 2 = oval"
   ]
  },
  {
   "cell_type": "markdown",
   "metadata": {
    "cell_id": "78848420a5234537950c13e4a62f2b9f",
    "deepnote_cell_type": "text-cell-bullet",
    "formattedRanges": []
   },
   "source": [
    "- 3 = lobular"
   ]
  },
  {
   "cell_type": "markdown",
   "metadata": {
    "cell_id": "77939e4573514cddb8858481262cb7f8",
    "deepnote_cell_type": "text-cell-bullet",
    "formattedRanges": []
   },
   "source": [
    "- 4 = tidak beraturan"
   ]
  },
  {
   "cell_type": "markdown",
   "metadata": {
    "cell_id": "1ba36f240b3c4816a87c7db6b0af61eb",
    "deepnote_cell_type": "text-cell-p",
    "formattedRanges": [
     {
      "fromCodePoint": 0,
      "marks": {
       "bold": true
      },
      "toCodePoint": 6,
      "type": "marks"
     }
    ]
   },
   "source": [
    "Margin(kategorikal nominal)"
   ]
  },
  {
   "cell_type": "markdown",
   "metadata": {
    "cell_id": "eea4dd008fa044bf8754047b7eb3686b",
    "deepnote_cell_type": "text-cell-bullet",
    "formattedRanges": []
   },
   "source": [
    "- 1 = sirkumsirk/circumscribed"
   ]
  },
  {
   "cell_type": "markdown",
   "metadata": {
    "cell_id": "b1c304a0d83e445083efa0b4ec07eef3",
    "deepnote_cell_type": "text-cell-bullet",
    "formattedRanges": []
   },
   "source": [
    "- 2 = mikrolobulasi /microlobulated"
   ]
  },
  {
   "cell_type": "markdown",
   "metadata": {
    "cell_id": "f8938240d8a24e7095c7b23f6b80cfc4",
    "deepnote_cell_type": "text-cell-bullet",
    "formattedRanges": []
   },
   "source": [
    "- 3 = tertutup/obscured"
   ]
  },
  {
   "cell_type": "markdown",
   "metadata": {
    "cell_id": "8c80302c2ae54f14888bdb48141b608e",
    "deepnote_cell_type": "text-cell-bullet",
    "formattedRanges": []
   },
   "source": [
    "- 4 = tidak jelas/ill-defined"
   ]
  },
  {
   "cell_type": "markdown",
   "metadata": {
    "cell_id": "f6152d56e3ee4ff69b5387c3709803b4",
    "deepnote_cell_type": "text-cell-bullet",
    "formattedRanges": []
   },
   "source": [
    "- 5 = spekulasi/speculated)."
   ]
  },
  {
   "cell_type": "markdown",
   "metadata": {
    "cell_id": "29509b903905437694f65799bcb6e683",
    "deepnote_cell_type": "text-cell-p",
    "formattedRanges": [
     {
      "fromCodePoint": 0,
      "marks": {
       "bold": true
      },
      "toCodePoint": 7,
      "type": "marks"
     }
    ]
   },
   "source": [
    "Density(kategorikal ordinal)"
   ]
  },
  {
   "cell_type": "markdown",
   "metadata": {
    "cell_id": "52ab36fa4ee04179bae55477cd2bd82a",
    "deepnote_cell_type": "text-cell-bullet",
    "formattedRanges": []
   },
   "source": [
    "-  1 = tinggi/high"
   ]
  },
  {
   "cell_type": "markdown",
   "metadata": {
    "cell_id": "d739dc4ffe2948cfa975eefd689e7776",
    "deepnote_cell_type": "text-cell-bullet",
    "formattedRanges": []
   },
   "source": [
    "- 2 = sedang/iso"
   ]
  },
  {
   "cell_type": "markdown",
   "metadata": {
    "cell_id": "41a644688e944fd8bfd5d883c66ff256",
    "deepnote_cell_type": "text-cell-bullet",
    "formattedRanges": []
   },
   "source": [
    "- 3 = rendah/low"
   ]
  },
  {
   "cell_type": "markdown",
   "metadata": {
    "cell_id": "6f5494a7eabb4dc0b636185ecbdc2e2d",
    "deepnote_cell_type": "text-cell-bullet",
    "formattedRanges": []
   },
   "source": [
    "- 4 = mengandung lemak/fat-containing "
   ]
  },
  {
   "cell_type": "markdown",
   "metadata": {
    "cell_id": "e48f6257c9a14f999e6eb63f5def3932",
    "deepnote_cell_type": "text-cell-p",
    "formattedRanges": [
     {
      "fromCodePoint": 0,
      "marks": {
       "bold": true
      },
      "toCodePoint": 8,
      "type": "marks"
     }
    ]
   },
   "source": [
    "Severity(kategorikal nominal)"
   ]
  },
  {
   "cell_type": "markdown",
   "metadata": {
    "cell_id": "752c01d04ecb4ed99f198fd16df8b509",
    "deepnote_cell_type": "text-cell-bullet",
    "formattedRanges": []
   },
   "source": [
    "- 0 = benign/jinak"
   ]
  },
  {
   "cell_type": "markdown",
   "metadata": {
    "cell_id": "f60ffb2d2f4d48b49d0875bf14ebc731",
    "deepnote_cell_type": "text-cell-bullet",
    "formattedRanges": []
   },
   "source": [
    "- 1 = malignant/ganas"
   ]
  },
  {
   "cell_type": "code",
   "execution_count": 9,
   "metadata": {
    "cell_id": "694dbd8d0f984bc2b7b881709cc059f2",
    "deepnote_cell_type": "code",
    "deepnote_to_be_reexecuted": false,
    "execution_millis": 291,
    "execution_start": 1719416394458,
    "source_hash": "7b7829f"
   },
   "outputs": [
    {
     "data": {
      "text/plain": [
       "Severity\n",
       "0    516\n",
       "1    445\n",
       "dtype: int64"
      ]
     },
     "execution_count": 9,
     "metadata": {},
     "output_type": "execute_result"
    }
   ],
   "source": [
    "data.groupby('Severity').size() #untuk mengetahui jumlah masing-masing class"
   ]
  },
  {
   "cell_type": "markdown",
   "metadata": {
    "cell_id": "e8d0741eb0814b0590c1117b35d3a998",
    "deepnote_cell_type": "text-cell-h2",
    "formattedRanges": []
   },
   "source": [
    "## Identifikasi Kualitas Dataset"
   ]
  },
  {
   "cell_type": "markdown",
   "metadata": {
    "cell_id": "953197cee22d4de9ab326fc20a01e873",
    "deepnote_cell_type": "text-cell-h3",
    "formattedRanges": []
   },
   "source": [
    "### Deteksi Missing Value"
   ]
  },
  {
   "cell_type": "markdown",
   "metadata": {
    "cell_id": "edc3d7432a824c99bed0bfbf0374c6b6",
    "deepnote_cell_type": "text-cell-p",
    "formattedRanges": []
   },
   "source": [
    "Missing value merupakan data yang hilang pada suatu dataset. Hal ini bisa terjadi oleh beberapa faktor, diantaranya adalah :"
   ]
  },
  {
   "cell_type": "markdown",
   "metadata": {
    "cell_id": "7a8243bb2a9d412094b80a996902199d",
    "deepnote_cell_type": "text-cell-bullet",
    "formattedRanges": []
   },
   "source": [
    "- Interviewer recording error terjadi akibat kelalaian petugas pengumpul data (pewawancara), misalnya ada sejumlah pertanyaan yang terlewatkan."
   ]
  },
  {
   "cell_type": "markdown",
   "metadata": {
    "cell_id": "1af5c8738ac14140ab39a5b51983400b",
    "deepnote_cell_type": "text-cell-bullet",
    "formattedRanges": []
   },
   "source": [
    "- Respondent inability error terjadi akibat ketidakmampuan responden dalam memberikan jawaban akurat, misalnya karena tidak memahami pertanyaan, bosan atau kelelahan (respondent fatigue) akhirnya responden mengosongkan sejumlah pertanyaan atau berhenti mengisi kuesioner di tengah jalan. "
   ]
  },
  {
   "cell_type": "markdown",
   "metadata": {
    "cell_id": "be781b8032f44dea83c3af079675a527",
    "deepnote_cell_type": "text-cell-bullet",
    "formattedRanges": []
   },
   "source": [
    "- Unwillingness respondent error terjadi karena responden tidak berkenan memberikan jawaban yang akurat, misalnya pertanyaan soal penghasilan, usia, berat badan, pengalaman melakukan pelanggaran hukum, dll."
   ]
  },
  {
   "cell_type": "markdown",
   "metadata": {
    "cell_id": "e704e5299a124c50bd7e76f29acb237b",
    "deepnote_cell_type": "text-cell-p",
    "formattedRanges": []
   },
   "source": [
    "Cara penanganan Missing Values :"
   ]
  },
  {
   "cell_type": "markdown",
   "metadata": {
    "cell_id": "29707ce6a2f54ce3acf34963c0db702d",
    "deepnote_cell_type": "text-cell-bullet",
    "formattedRanges": []
   },
   "source": [
    "- Mengabaikan dan membuang missing data."
   ]
  },
  {
   "cell_type": "markdown",
   "metadata": {
    "cell_id": "b2bfe4fd07be4768a893a2527d460c84",
    "deepnote_cell_type": "text-cell-bullet",
    "formattedRanges": []
   },
   "source": [
    "- Estimasi parameter."
   ]
  },
  {
   "cell_type": "markdown",
   "metadata": {
    "cell_id": "6a7f5a0bd227499a8f82dd4d09099281",
    "deepnote_cell_type": "text-cell-bullet",
    "formattedRanges": []
   },
   "source": [
    "- Imputasi."
   ]
  },
  {
   "cell_type": "markdown",
   "metadata": {
    "cell_id": "488bdfd7ff904c4da5309dbda9b2ae01",
    "deepnote_cell_type": "text-cell-p",
    "formattedRanges": []
   },
   "source": [
    "Dalam modul kali ini saya akan menangani missing values menggunakan metode imputasi, yang ada 2 metode yaitu menggunakan metode Mean dan menggunakan metode KNN."
   ]
  },
  {
   "cell_type": "markdown",
   "metadata": {
    "cell_id": "7afe8903525f4524867df3527ffd01f1",
    "deepnote_cell_type": "text-cell-p",
    "formattedRanges": []
   },
   "source": [
    "pada kolom di bawah ini akan dilakukan pendeteksian missing values terlebih dahulu pada masing-masing kolom."
   ]
  },
  {
   "cell_type": "code",
   "execution_count": 10,
   "metadata": {
    "cell_id": "432cf96ea7ac48b6b86093fe3305249b",
    "deepnote_cell_type": "code",
    "deepnote_to_be_reexecuted": false,
    "execution_millis": 272,
    "execution_start": 1719416394478,
    "source_hash": "e4776115"
   },
   "outputs": [
    {
     "name": "stdout",
     "output_type": "stream",
     "text": [
      "Rows with Missing Values:\n",
      "     BI-RADS   Age  Shape  Margin  Density  Severity\n",
      "1        4.0  43.0    1.0     1.0      NaN         1\n",
      "4        5.0  74.0    1.0     5.0      NaN         1\n",
      "5        4.0  65.0    1.0     NaN      3.0         0\n",
      "6        4.0  70.0    NaN     NaN      3.0         0\n",
      "7        5.0  42.0    1.0     NaN      3.0         0\n",
      "..       ...   ...    ...     ...      ...       ...\n",
      "778      4.0  60.0    NaN     4.0      3.0         0\n",
      "819      4.0  35.0    3.0     NaN      2.0         0\n",
      "824      6.0  40.0    NaN     3.0      4.0         1\n",
      "884      5.0   NaN    4.0     4.0      3.0         1\n",
      "923      5.0   NaN    4.0     3.0      3.0         1\n",
      "\n",
      "[131 rows x 6 columns]\n",
      "Missing Value Counts:\n",
      "BI-RADS      2\n",
      "Age          5\n",
      "Shape       31\n",
      "Margin      48\n",
      "Density     76\n",
      "Severity     0\n",
      "dtype: int64\n"
     ]
    }
   ],
   "source": [
    "import pandas as pd\n",
    "\n",
    "# Detect rows with missing values\n",
    "rows_with_missing = data[data.isnull().any(axis=1)]\n",
    "\n",
    "# Tampilkan baris dengan nilai yang hilang beserta ID, fitur, dan labelnya\n",
    "print(\"Rows with Missing Values:\")\n",
    "print(rows_with_missing)\n",
    "\n",
    "# Detect missing values\n",
    "missing_values = data.isnull()\n",
    "\n",
    "# Hitung nilai yang hilang di setiap kolom\n",
    "missing_counts = missing_values.sum()\n",
    "\n",
    "# Display missing value counts\n",
    "print(\"Missing Value Counts:\")\n",
    "print(missing_counts)"
   ]
  },
  {
   "cell_type": "markdown",
   "metadata": {
    "cell_id": "6b12266fdd574e36929fc4657e20f823",
    "deepnote_cell_type": "text-cell-p",
    "formattedRanges": []
   },
   "source": [
    "Berdasarkan proses pengecekan  missing value di atas, didapatkan hasil seperti berikut:"
   ]
  },
  {
   "cell_type": "markdown",
   "metadata": {
    "cell_id": "1cbbeb1099964fcd897bd7ae39fd3a92",
    "deepnote_cell_type": "text-cell-bullet",
    "formattedRanges": [
     {
      "fromCodePoint": 6,
      "marks": {
       "bold": true
      },
      "toCodePoint": 13,
      "type": "marks"
     },
     {
      "fromCodePoint": 23,
      "marks": {
       "bold": true
      },
      "toCodePoint": 25,
      "type": "marks"
     }
    ]
   },
   "source": [
    "- Fitur BI-RADS memiliki 2 missing value."
   ]
  },
  {
   "cell_type": "markdown",
   "metadata": {
    "cell_id": "985cf1a3bb8a4ecab70fe05d44cd9f3c",
    "deepnote_cell_type": "text-cell-bullet",
    "formattedRanges": [
     {
      "fromCodePoint": 6,
      "marks": {
       "bold": true
      },
      "toCodePoint": 9,
      "type": "marks"
     },
     {
      "fromCodePoint": 19,
      "marks": {
       "bold": true
      },
      "toCodePoint": 20,
      "type": "marks"
     }
    ]
   },
   "source": [
    "- Fitur Age memiliki 5 missing value."
   ]
  },
  {
   "cell_type": "markdown",
   "metadata": {
    "cell_id": "dc89bfd4d7b74794898fac3ec7d08c84",
    "deepnote_cell_type": "text-cell-bullet",
    "formattedRanges": [
     {
      "fromCodePoint": 6,
      "marks": {
       "bold": true
      },
      "toCodePoint": 11,
      "type": "marks"
     },
     {
      "fromCodePoint": 21,
      "marks": {
       "bold": true
      },
      "toCodePoint": 23,
      "type": "marks"
     }
    ]
   },
   "source": [
    "- Fitur Shape memiliki 31 missing value."
   ]
  },
  {
   "cell_type": "markdown",
   "metadata": {
    "cell_id": "946a54acd8684e63a7cd92a3b06a8518",
    "deepnote_cell_type": "text-cell-bullet",
    "formattedRanges": [
     {
      "fromCodePoint": 6,
      "marks": {
       "bold": true
      },
      "toCodePoint": 13,
      "type": "marks"
     },
     {
      "fromCodePoint": 22,
      "marks": {
       "bold": true
      },
      "toCodePoint": 25,
      "type": "marks"
     }
    ]
   },
   "source": [
    "- Fitur Margin memiliki 48 missing value."
   ]
  },
  {
   "cell_type": "markdown",
   "metadata": {
    "cell_id": "707bda8537ca4208aded39f55260f239",
    "deepnote_cell_type": "text-cell-bullet",
    "formattedRanges": [
     {
      "fromCodePoint": 6,
      "marks": {
       "bold": true
      },
      "toCodePoint": 13,
      "type": "marks"
     },
     {
      "fromCodePoint": 23,
      "marks": {
       "bold": true
      },
      "toCodePoint": 26,
      "type": "marks"
     }
    ]
   },
   "source": [
    "- Fitur Density memiliki 76 missing value."
   ]
  },
  {
   "cell_type": "markdown",
   "metadata": {
    "cell_id": "4b6977290f1e4c2a8b8818b99d06bce2",
    "deepnote_cell_type": "text-cell-p",
    "formattedRanges": [
     {
      "fromCodePoint": 83,
      "marks": {
       "bold": true
      },
      "toCodePoint": 95,
      "type": "marks"
     },
     {
      "fromCodePoint": 101,
      "marks": {
       "bold": true
      },
      "toCodePoint": 115,
      "type": "marks"
     }
    ]
   },
   "source": [
    "Fitur dengan missing value nantinya akan dilakukan imputasi dengan 2 metode, yaitu Mean dan KNN pada Preprocessing."
   ]
  },
  {
   "cell_type": "markdown",
   "metadata": {
    "cell_id": "71f52dab47cd46c6a80dad667990a1f8",
    "deepnote_cell_type": "text-cell-h1",
    "formattedRanges": []
   },
   "source": [
    "# Preprocessing Data"
   ]
  },
  {
   "cell_type": "markdown",
   "metadata": {
    "cell_id": "0e55c19e311a460e8a5734762a99a3aa",
    "deepnote_cell_type": "text-cell-h2",
    "formattedRanges": []
   },
   "source": [
    "## Tranformasi Data"
   ]
  },
  {
   "cell_type": "markdown",
   "metadata": {
    "cell_id": "5f36e6400ec74d4d9008a846a8610309",
    "deepnote_cell_type": "text-cell-p",
    "formattedRanges": [
     {
      "fromCodePoint": 53,
      "marks": {
       "italic": true
      },
      "toCodePoint": 64,
      "type": "marks"
     },
     {
      "fromCodePoint": 94,
      "marks": {
       "italic": true
      },
      "toCodePoint": 101,
      "type": "marks"
     }
    ]
   },
   "source": [
    "Dataset diatas sebelumnya nama kelasnya bertipe data kategorikal lalu di transformasi menjadi numerik. Misalnya 0 mereperesentasikan kelas jinak sedangkan 1 merepresentasikan kelas ganas."
   ]
  },
  {
   "cell_type": "markdown",
   "metadata": {
    "cell_id": "ae2292ce4f034304b16ee07ec8cd5ed3",
    "deepnote_cell_type": "text-cell-p",
    "formattedRanges": []
   },
   "source": [
    "Dikarenakan data sudah dalam bentuk transformasi, saya akan merubah data ke dalam bentuk sebelum di transformasi"
   ]
  },
  {
   "cell_type": "code",
   "execution_count": 11,
   "metadata": {
    "cell_id": "afe5855a6b3e43b6b3b70ceded4943c1",
    "deepnote_cell_type": "code",
    "deepnote_to_be_reexecuted": false,
    "execution_millis": 690,
    "execution_start": 1719416394493,
    "source_hash": "b71624b"
   },
   "outputs": [
    {
     "name": "stdout",
     "output_type": "stream",
     "text": [
      "    BI-RADS   Age  Shape  Margin  Density Severity\n",
      "0       5.0  67.0    3.0     5.0      3.0    Ganas\n",
      "1       4.0  43.0    1.0     1.0      NaN    Ganas\n",
      "2       5.0  58.0    4.0     5.0      3.0    Ganas\n",
      "3       4.0  28.0    1.0     1.0      3.0    Jinak\n",
      "4       5.0  74.0    1.0     5.0      NaN    Ganas\n",
      "5       4.0  65.0    1.0     NaN      3.0    Jinak\n",
      "6       4.0  70.0    NaN     NaN      3.0    Jinak\n",
      "7       5.0  42.0    1.0     NaN      3.0    Jinak\n",
      "8       5.0  57.0    1.0     5.0      3.0    Ganas\n",
      "9       5.0  60.0    NaN     5.0      1.0    Ganas\n",
      "10      5.0  76.0    1.0     4.0      3.0    Ganas\n",
      "11      3.0  42.0    2.0     1.0      3.0    Ganas\n",
      "12      4.0  64.0    1.0     NaN      3.0    Jinak\n",
      "13      4.0  36.0    3.0     1.0      2.0    Jinak\n",
      "14      4.0  60.0    2.0     1.0      2.0    Jinak\n",
      "15      4.0  54.0    1.0     1.0      3.0    Jinak\n",
      "16      3.0  52.0    3.0     4.0      3.0    Jinak\n",
      "17      4.0  59.0    2.0     1.0      3.0    Ganas\n",
      "18      4.0  54.0    1.0     1.0      3.0    Ganas\n",
      "19      4.0  40.0    1.0     NaN      NaN    Jinak\n"
     ]
    }
   ],
   "source": [
    "from ucimlrepo import fetch_ucirepo \n",
    "import pandas as pd\n",
    "\n",
    "# Ambil dataset\n",
    "breast_cancer_wisconsin_original = fetch_ucirepo(id=15) \n",
    "\n",
    "# Data (sebagai dataframe pandas)\n",
    "data_before = mammographic_mass.data.original \n",
    "\n",
    "# Mengganti label 0 dan 1 menjadi 'Jinak' dan 'Ganas'\n",
    "data_before['Severity'] = data_before['Severity'].replace({0: 'Jinak', 1: 'Ganas'})\n",
    "\n",
    "# Tampilkan 5 baris pertama\n",
    "print(data_before.head(20))"
   ]
  },
  {
   "cell_type": "markdown",
   "metadata": {
    "cell_id": "7f3247e91b434910b229cdcced732eb7",
    "deepnote_cell_type": "text-cell-p",
    "formattedRanges": []
   },
   "source": [
    "setelah dataset dikembalikan kebentuk sebelum ditransformasi maka berikut adalah cara dalam melakukan transformasi data. data label akan ditransformasi yang sebelumnya \"Jinak\" dan \"Ganas\" akan ditransformasi menjadi 0 dan 1. dengan detil yaitu 0 untuk jinak dan 1 untuk ganas."
   ]
  },
  {
   "cell_type": "code",
   "execution_count": 12,
   "metadata": {
    "cell_id": "b6fd1db62ff04c4e89a8d83aa1b1b202",
    "deepnote_cell_type": "code",
    "deepnote_to_be_reexecuted": false,
    "execution_millis": 294,
    "execution_start": 1719416395186,
    "source_hash": "acd24616"
   },
   "outputs": [
    {
     "name": "stdout",
     "output_type": "stream",
     "text": [
      "    BI-RADS   Age  Shape  Margin  Density  Severity\n",
      "0       5.0  67.0    3.0     5.0      3.0         1\n",
      "1       4.0  43.0    1.0     1.0      NaN         1\n",
      "2       5.0  58.0    4.0     5.0      3.0         1\n",
      "3       4.0  28.0    1.0     1.0      3.0         0\n",
      "4       5.0  74.0    1.0     5.0      NaN         1\n",
      "5       4.0  65.0    1.0     NaN      3.0         0\n",
      "6       4.0  70.0    NaN     NaN      3.0         0\n",
      "7       5.0  42.0    1.0     NaN      3.0         0\n",
      "8       5.0  57.0    1.0     5.0      3.0         1\n",
      "9       5.0  60.0    NaN     5.0      1.0         1\n",
      "10      5.0  76.0    1.0     4.0      3.0         1\n",
      "11      3.0  42.0    2.0     1.0      3.0         1\n",
      "12      4.0  64.0    1.0     NaN      3.0         0\n",
      "13      4.0  36.0    3.0     1.0      2.0         0\n",
      "14      4.0  60.0    2.0     1.0      2.0         0\n",
      "15      4.0  54.0    1.0     1.0      3.0         0\n",
      "16      3.0  52.0    3.0     4.0      3.0         0\n",
      "17      4.0  59.0    2.0     1.0      3.0         1\n",
      "18      4.0  54.0    1.0     1.0      3.0         1\n",
      "19      4.0  40.0    1.0     NaN      NaN         0\n"
     ]
    }
   ],
   "source": [
    "# Mengganti label 0 dan 1 menjadi 'Jinak' dan 'Ganas'\n",
    "data_before['Severity'] = data_before['Severity'].replace({'Jinak':0 , 'Ganas':1 })\n",
    "\n",
    "# Tampilkan 5 baris pertama\n",
    "print(data_before.head(20))"
   ]
  },
  {
   "cell_type": "markdown",
   "metadata": {
    "cell_id": "b3211df6c32c4a8bb9b346fb869b947b",
    "deepnote_cell_type": "text-cell-h2",
    "formattedRanges": []
   },
   "source": [
    "## Imputasi Missing Value"
   ]
  },
  {
   "cell_type": "markdown",
   "metadata": {
    "cell_id": "b6acfb502c1945b7ba1117e00f1c9903",
    "deepnote_cell_type": "text-cell-h3",
    "formattedRanges": []
   },
   "source": [
    "### Mean"
   ]
  },
  {
   "cell_type": "markdown",
   "metadata": {
    "cell_id": "69e54a1b008349da8b579e8839c1f1f3",
    "deepnote_cell_type": "text-cell-p",
    "formattedRanges": []
   },
   "source": [
    "setelah missing value terdeteksi, kita perlu untuk mengisi data yang kosong dengan data yang pas agar data dapat digunakan, ada banyak cara untuk mengisi missing value antara lain yaitu dengan menggunkan metode mean,pada tahap ini kita akan melakukan imputasi dengan metode mean."
   ]
  },
  {
   "cell_type": "markdown",
   "metadata": {
    "cell_id": "7958179bffd64329aa9c28d0a77bd3f6",
    "deepnote_cell_type": "text-cell-p",
    "formattedRanges": []
   },
   "source": [
    "Untuk langkah-langkah nya sebagai berikut:"
   ]
  },
  {
   "cell_type": "markdown",
   "metadata": {
    "cell_id": "91cf7e077757481caa168f897a4c38e3",
    "deepnote_cell_type": "text-cell-p",
    "formattedRanges": []
   },
   "source": [
    "1. hitung rata rata setiap kolom pada 'data' lalu simpan hasilnya di suatu variable disini saya mendefinisikan 'mean_values'"
   ]
  },
  {
   "cell_type": "markdown",
   "metadata": {
    "cell_id": "b39414cbbdbf49f69cc85e966297c0fd",
    "deepnote_cell_type": "text-cell-p",
    "formattedRanges": []
   },
   "source": [
    "2. gunakan metode dari pandas untuk mengisikan/mengantikan value yang kosong/hilang pada dataFrame. saya disini untuk mengisi value yang kosong dengan menjumlahkan rata-rata dari setiap kolom."
   ]
  },
  {
   "cell_type": "code",
   "execution_count": 13,
   "metadata": {
    "cell_id": "7a89a70fa56a453a9fd67018925ddc29",
    "deepnote_cell_type": "code",
    "deepnote_to_be_reexecuted": false,
    "execution_millis": 226,
    "execution_start": 1719416395255,
    "source_hash": "b5c7c6dc"
   },
   "outputs": [
    {
     "name": "stdout",
     "output_type": "stream",
     "text": [
      "ini hasil perhitungan mean menggunakan (fillna)\n",
      "BI-RADS      4.348279\n",
      "Age         55.487448\n",
      "Shape        2.721505\n",
      "Margin       2.796276\n",
      "Density      2.910734\n",
      "Severity     0.463059\n",
      "dtype: float64\n",
      "\n",
      "input tiap kolom missing dengan mean\n",
      "jika output false berarti sudah tidak ada missing value\n",
      "     BI-RADS    Age  Shape  Margin  Density  Severity\n",
      "0      False  False  False   False    False     False\n",
      "1      False  False  False   False    False     False\n",
      "2      False  False  False   False    False     False\n",
      "3      False  False  False   False    False     False\n",
      "4      False  False  False   False    False     False\n",
      "..       ...    ...    ...     ...      ...       ...\n",
      "956    False  False  False   False    False     False\n",
      "957    False  False  False   False    False     False\n",
      "958    False  False  False   False    False     False\n",
      "959    False  False  False   False    False     False\n",
      "960    False  False  False   False    False     False\n",
      "\n",
      "[961 rows x 6 columns]\n",
      "\n",
      "\n",
      "melihat secara tiap karakter\n",
      "BI-RADS     False\n",
      "Age         False\n",
      "Shape       False\n",
      "Margin      False\n",
      "Density     False\n",
      "Severity    False\n",
      "dtype: bool\n",
      "\n",
      "\n",
      "Jumlah Missing Value:\n",
      "BI-RADS     0\n",
      "Age         0\n",
      "Shape       0\n",
      "Margin      0\n",
      "Density     0\n",
      "Severity    0\n",
      "dtype: int64\n"
     ]
    }
   ],
   "source": [
    "mean_values = data.mean()\n",
    "data_filled = data.fillna(mean_values)\n",
    "\n",
    "print(\"ini hasil perhitungan mean menggunakan (fillna)\")\n",
    "print(mean_values)\n",
    "print(\"\")\n",
    "\n",
    "print(\"input tiap kolom missing dengan mean\")\n",
    "print(\"jika output false berarti sudah tidak ada missing value\")\n",
    "print(data_filled.isnull())\n",
    "print(\"\")\n",
    "print(\"\")\n",
    "\n",
    "print(\"melihat secara tiap karakter\")\n",
    "print(data_filled.isnull().any())\n",
    "print(\"\")\n",
    "print(\"\")\n",
    "\n",
    "missing_values = data_filled.isnull()\n",
    "\n",
    "# Count missing values in each column\n",
    "missing_counts = missing_values.sum()\n",
    "\n",
    "# Display missing value counts\n",
    "print(\"Jumlah Missing Value:\")\n",
    "print(missing_counts) #melihat missing value (jika ada) pada semua fitur"
   ]
  },
  {
   "cell_type": "markdown",
   "metadata": {
    "cell_id": "a6dd3da9c4a64944b108d0f6b28993ba",
    "deepnote_cell_type": "text-cell-p",
    "formattedRanges": []
   },
   "source": [
    "Mengambil dataset Mammograpgic Mass, menyimpannya dalam format CSV:"
   ]
  },
  {
   "cell_type": "code",
   "execution_count": 14,
   "metadata": {
    "cell_id": "2e0cd1ec827b42e594cf14892b0d7116",
    "deepnote_cell_type": "code",
    "deepnote_to_be_reexecuted": false,
    "execution_millis": 266,
    "execution_start": 1719416395256,
    "source_hash": "2bfe3296"
   },
   "outputs": [],
   "source": [
    "data_filled.to_csv(\"mammographic_mass_mean.csv\", index=True)"
   ]
  },
  {
   "cell_type": "markdown",
   "metadata": {
    "cell_id": "06de26435646489baa2be1b58a74f595",
    "deepnote_cell_type": "text-cell-h3",
    "formattedRanges": []
   },
   "source": [
    "### KNN"
   ]
  },
  {
   "cell_type": "markdown",
   "metadata": {
    "cell_id": "fbadf6ff881f427eb0777dc7bbe54c8e",
    "deepnote_cell_type": "text-cell-p",
    "formattedRanges": []
   },
   "source": [
    "Pada tahapan ini kami akan melakukan imputasi missing value dengan metode KNN dengan perhitungan jarak menggunakan rumus euclidien distance."
   ]
  },
  {
   "cell_type": "markdown",
   "metadata": {
    "cell_id": "41d0cf8939ce431bb6badff99edfcd7f",
    "deepnote_cell_type": "text-cell-p",
    "formattedRanges": []
   },
   "source": [
    "Langkah-langkah KNN :"
   ]
  },
  {
   "cell_type": "markdown",
   "metadata": {
    "cell_id": "4d4de96aa5174e14bc1410349e25f2bc",
    "deepnote_cell_type": "text-cell-p",
    "formattedRanges": []
   },
   "source": [
    "1. Tentukan jumlah tetangga (K) yang akan digunakan untuk pertimbangan penentuan kelas (metode cross validation)"
   ]
  },
  {
   "cell_type": "markdown",
   "metadata": {
    "cell_id": "d54dacff94f5439789df8ba57cd9f9e1",
    "deepnote_cell_type": "text-cell-p",
    "formattedRanges": []
   },
   "source": [
    "2. Hitung jarak dari data baru ke masing-masing data point di dataset (eulidien distance).\n"
   ]
  },
  {
   "cell_type": "markdown",
   "metadata": {
    "cell_id": "5e7253f3ef8c40069adfb927ff10ebb3",
    "deepnote_cell_type": "text-cell-p",
    "formattedRanges": []
   },
   "source": [
    "3. Ambil tetangga terdekat menurut K, kemudian hitung rata-ratanya."
   ]
  },
  {
   "cell_type": "markdown",
   "metadata": {
    "cell_id": "196e9c39a974404a9cac9dbe2a645cb0",
    "deepnote_cell_type": "image",
    "deepnote_img_src": "image-20240624-224408.png"
   },
   "source": [
    "<img src=\"image-20240624-224408.png\" width=\"\" align=\"\" />"
   ]
  },
  {
   "cell_type": "markdown",
   "metadata": {
    "cell_id": "ffd7d54858124b51aba417c7a26f5639",
    "deepnote_cell_type": "text-cell-p",
    "formattedRanges": []
   },
   "source": [
    "Sedangkan untuk mencari nilai K terbaik kami menggunakan Cross validation."
   ]
  },
  {
   "cell_type": "markdown",
   "metadata": {
    "cell_id": "1f55b74521fb47c1add6ff46ebc51aaf",
    "deepnote_cell_type": "text-cell-p",
    "formattedRanges": []
   },
   "source": [
    "K-Fold Cross Validation atau lebih sering disebut cross validation adalah salah satu teknik yang populer dipakai dalam evaluasi model ML. Pada cross validation dataset dibagi sebanyak K lipatan. Pada setiap iterasi setiap lipatan akan dipakai satu kali sebagai data uji dan lipatan sisanya dipakai sebagai data latih. Dengan menggunakan cross validation kita akan memperoleh hasil evaluasi yang lebih akurat karena model dievaluasi dengan seluruh data."
   ]
  },
  {
   "cell_type": "code",
   "execution_count": 15,
   "metadata": {
    "cell_id": "717098f3c9f342f295b29dc87ea80e3a",
    "deepnote_cell_type": "code",
    "deepnote_to_be_reexecuted": false,
    "execution_millis": 2146,
    "execution_start": 1719416395528,
    "source_hash": "6ffeee38"
   },
   "outputs": [
    {
     "name": "stdout",
     "output_type": "stream",
     "text": [
      "Dimensi data tanpa nilai yang hilang: (830, 6)\n",
      "Nilai K yang akan diuji = [1, 3, 5, 7, 9, 11, 13, 15, 17, 19, 21, 23, 25, 27, 29, 31, 33, 35, 37, 39, 41, 43, 45, 47, 49]\n"
     ]
    },
    {
     "data": {
      "image/png": "[encoded data removed]",
      "text/plain": [
       "<Figure size 1500x1000 with 1 Axes>"
      ]
     },
     "metadata": {
      "image/png": {
       "height": 869,
       "width": 1257
      }
     },
     "output_type": "display_data"
    },
    {
     "name": "stdout",
     "output_type": "stream",
     "text": [
      "The optimal number of neighbors is 5.\n"
     ]
    }
   ],
   "source": [
    "import pandas as pd\n",
    "from sklearn.neighbors import KNeighborsClassifier\n",
    "from sklearn.metrics import confusion_matrix, accuracy_score\n",
    "from sklearn.model_selection import cross_val_score\n",
    "from sklearn.model_selection import train_test_split\n",
    "from sklearn.preprocessing import LabelEncoder\n",
    "import matplotlib.pyplot as plt\n",
    "import seaborn as sns\n",
    "%matplotlib inline\n",
    "\n",
    "df = pd.read_csv('mammographic_mass.csv')\n",
    "df = df.drop(['Unnamed: 0'], axis=1)\n",
    "\n",
    "# Mengambil semua data yang tidak memiliki nilai yang hilang\n",
    "data_clean = df.dropna()\n",
    "\n",
    "# Cetak informasi mengenai dimensi data yang tidak memiliki nilai yang hilang\n",
    "print(\"Dimensi data tanpa nilai yang hilang:\", data_clean.shape)\n",
    "\n",
    "# Memisahkan fitur dan label\n",
    "feature_columns = ['BI-RADS', 'Age', 'Shape', 'Margin', 'Density']\n",
    "X = data_clean[feature_columns].values\n",
    "y = data_clean['Severity'].values\n",
    "\n",
    "# Mengubah label menjadi numerik\n",
    "le = LabelEncoder()\n",
    "y = le.fit_transform(y)\n",
    "\n",
    "# Membagi data menjadi data latih dan data uji\n",
    "X_train, X_test, y_train, y_test = train_test_split(X, y, test_size=0.2, random_state=0)\n",
    "\n",
    "# Membuat list k untuk KNN\n",
    "k_list = list(range(1, 50, 2))\n",
    "print(f\"Nilai K yang akan diuji = {k_list}\")\n",
    "cv_scores = []\n",
    "\n",
    "# Melakukan 10-fold cross validation\n",
    "for k in k_list:\n",
    "    knn = KNeighborsClassifier(n_neighbors=k)\n",
    "    scores = cross_val_score(knn, X_train, y_train, cv=10, scoring='accuracy')\n",
    "    cv_scores.append(scores.mean())\n",
    "\n",
    "# Menghitung MSE\n",
    "MSE = [1 - x for x in cv_scores]\n",
    "\n",
    "plt.figure(figsize=(15, 10))\n",
    "plt.title('The optimal number of neighbors', fontsize=20, fontweight='bold')\n",
    "plt.xlabel('Number of Neighbors K', fontsize=15)\n",
    "plt.ylabel('Misclassification Error', fontsize=15)\n",
    "sns.set_style(\"whitegrid\")\n",
    "plt.plot(k_list, MSE)\n",
    "plt.show()\n",
    "\n",
    "# Menemukan nilai k terbaik\n",
    "best_k = k_list[MSE.index(min(MSE))]\n",
    "print(\"The optimal number of neighbors is %d.\" % best_k)"
   ]
  },
  {
   "cell_type": "markdown",
   "metadata": {
    "cell_id": "3c5b7c5eeb5a40b5a6eec049c64ae49d",
    "deepnote_cell_type": "text-cell-p",
    "formattedRanges": []
   },
   "source": [
    "Setelah didapati jumlah K terbaik, maka kita coba cek akurasinya."
   ]
  },
  {
   "cell_type": "code",
   "execution_count": 16,
   "metadata": {
    "cell_id": "968e846e959e41f1b476e77304066f8e",
    "deepnote_cell_type": "code",
    "deepnote_to_be_reexecuted": false,
    "execution_millis": 469,
    "execution_start": 1719416397679,
    "source_hash": "edc93ed6"
   },
   "outputs": [
    {
     "name": "stdout",
     "output_type": "stream",
     "text": [
      "Accuracy of our model is equal 77.11 %.\n"
     ]
    }
   ],
   "source": [
    "classifier = KNeighborsClassifier(n_neighbors=5)\n",
    "\n",
    "# Melatih model\n",
    "classifier.fit(X_train, y_train)\n",
    "\n",
    "# Memprediksi data uji\n",
    "y_pred = classifier.predict(X_test)\n",
    "\n",
    "# Menghitung akurasi\n",
    "accuracy = accuracy_score(y_test, y_pred) * 100\n",
    "print('Accuracy of our model is equal ' + str(round(accuracy, 2)) + ' %.')"
   ]
  },
  {
   "cell_type": "markdown",
   "metadata": {
    "cell_id": "189308dacc674fa1ae458afa0407e869",
    "deepnote_cell_type": "text-cell-p",
    "formattedRanges": []
   },
   "source": [
    "setelah didapati akurasi model apabila K berjumlah 9 mendapat hasil 96,35%. maka model tersebut dikatakan baik karena berada di atas 85%. langkah selanjutnya adalah melakukan imputasi dengan KNN."
   ]
  },
  {
   "cell_type": "code",
   "execution_count": 17,
   "metadata": {
    "cell_id": "0257b3af1257412d898fcbe67224539d",
    "deepnote_cell_type": "code",
    "deepnote_to_be_reexecuted": false,
    "execution_millis": 447,
    "execution_start": 1719416397701,
    "source_hash": "a2143ebc"
   },
   "outputs": [
    {
     "name": "stdout",
     "output_type": "stream",
     "text": [
      "             ---------------------------Missing Value Counts---------------------------             \n",
      "BI-RADS     0\n",
      "Age         0\n",
      "Shape       0\n",
      "Margin      0\n",
      "Density     0\n",
      "Severity    0\n",
      "dtype: int64\n",
      "\n",
      "---------------------------Hasil data yang sudah diimputasi---------------------------\n",
      "     BI-RADS   Age  Shape    Margin   Density  Severity\n",
      "23       5.0  42.0    4.0  4.000000  3.000000       1.0\n",
      "40       4.0  59.0    2.0  1.000000  2.777778       0.0\n",
      "139      5.0  67.0    3.0  5.000000  3.000000       1.0\n",
      "145      5.0  62.0    4.0  5.000000  3.000000       1.0\n",
      "158      4.0  62.0    2.0  1.000000  3.000000       0.0\n",
      "164      4.0  42.0    2.0  1.000000  3.000000       0.0\n",
      "235      5.0  42.0    4.0  5.000000  3.000000       0.0\n",
      "249      3.0  42.0    1.0  1.000000  3.000000       0.0\n",
      "275      5.0  71.0    3.0  1.000000  3.000000       0.0\n",
      "292      5.0  44.0    4.0  5.000000  3.000000       1.0\n",
      "294      4.0  62.0    2.0  4.000000  3.000000       0.0\n",
      "297      4.0  50.0    4.0  5.000000  3.000000       1.0\n",
      "315      4.0  71.0    2.0  1.888889  3.000000       1.0\n",
      "321      5.0  60.0    4.0  3.000000  3.000000       1.0\n",
      "411      5.0  72.0    4.0  2.000000  3.000000       1.0\n",
      "617      4.0  39.0    1.0  3.000000  3.000000       0.0\n"
     ]
    }
   ],
   "source": [
    "import pandas as pd\n",
    "import numpy as np\n",
    "from sklearn.impute import KNNImputer\n",
    "from sklearn.preprocessing import MinMaxScaler\n",
    "from sklearn.impute import KNNImputer\n",
    "\n",
    "df = pd.read_csv('mammographic_mass.csv')\n",
    "df = df.drop(['Unnamed: 0'], axis=1)\n",
    "\n",
    "# Inisialisasi KNNImputer\n",
    "imputer = KNNImputer(n_neighbors=9, metric='nan_euclidean') \n",
    "\n",
    "# Lakukan imputasi pada data yang memiliki nilai yang hilang\n",
    "data_imputed = imputer.fit_transform(df)\n",
    "\n",
    "# Konversi hasil imputasi menjadi DataFrame\n",
    "data_imputed_df = pd.DataFrame(data_imputed, columns=df.columns)\n",
    "\n",
    "# Detect missing values\n",
    "missing_values = data_imputed_df.isnull()\n",
    "\n",
    "# Count missing values in each column\n",
    "missing_counts = missing_values.sum()\n",
    "\n",
    "# Display missing value counts\n",
    "print(\"---------------------------Missing Value Counts---------------------------\".center(100))\n",
    "print(missing_counts)\n",
    "\n",
    "print()\n",
    "print(\"---------------------------Hasil data yang sudah diimputasi---------------------------\")\n",
    "# List dari indeks yang ingin ditampilkan\n",
    "indeks_tampilkan = [23, 40, 139, 145, 158, 164, 235, 249, 275, 292, 294, 297, 315, 321, 411, 617]\n",
    "\n",
    "# Tampilkan data pada indeks yang diberikan\n",
    "data_tampil = data_imputed_df.iloc[indeks_tampilkan]\n",
    "print(data_tampil)"
   ]
  },
  {
   "cell_type": "markdown",
   "metadata": {
    "cell_id": "2982a73bdb164ee3a9926feb68f77543",
    "deepnote_cell_type": "text-cell-p",
    "formattedRanges": []
   },
   "source": [
    "Setelah didapati hasil imputasi dan sudah tidak ada missing value lagi dalam dataset. langkah selanjutnya kami akan menkonversi dataframe hasil imputasi knn ke dalam csv."
   ]
  },
  {
   "cell_type": "code",
   "execution_count": 18,
   "metadata": {
    "cell_id": "22e8acf96ff9499496d831cb5ac99d22",
    "deepnote_cell_type": "code",
    "deepnote_to_be_reexecuted": false,
    "execution_millis": 331,
    "execution_start": 1719416397946,
    "source_hash": "923b21c3"
   },
   "outputs": [],
   "source": [
    "data_imputed_df.to_csv(\"mammographic_mass_knn.csv\", index=True)"
   ]
  },
  {
   "cell_type": "markdown",
   "metadata": {
    "cell_id": "be8f9597eca646d9bed01628e12ee41c",
    "deepnote_cell_type": "text-cell-h2",
    "formattedRanges": []
   },
   "source": [
    "## Normalisasi"
   ]
  },
  {
   "cell_type": "code",
   "execution_count": 19,
   "metadata": {
    "cell_id": "d5f99be5cf2f4c5c83e7be744768c5fb",
    "deepnote_cell_type": "code",
    "deepnote_to_be_reexecuted": false,
    "execution_millis": 485,
    "execution_start": 1719416398283,
    "source_hash": "11162f55"
   },
   "outputs": [
    {
     "name": "stdout",
     "output_type": "stream",
     "text": [
      "   Unnamed: 0   BI-RADS       Age     Shape  Margin   Density  Severity\n",
      "0           0  0.090909  0.628205  0.666667     1.0  0.666667       1.0\n",
      "1           1  0.072727  0.320513  0.000000     0.0  0.592593       1.0\n",
      "2           2  0.090909  0.512821  1.000000     1.0  0.666667       1.0\n",
      "3           3  0.072727  0.128205  0.000000     0.0  0.666667       0.0\n",
      "4           4  0.090909  0.717949  0.000000     1.0  0.666667       1.0\n"
     ]
    }
   ],
   "source": [
    "import pandas as pd\n",
    "from sklearn.preprocessing import MinMaxScaler\n",
    "\n",
    "# Memilih kolom-kolom numerik untuk dinormalisasi\n",
    "numerical_cols = ['Age']\n",
    "\n",
    "# Inisialisasi MinMaxScaler\n",
    "scaler = MinMaxScaler()\n",
    "\n",
    "data = pd.read_csv('mammographic_mass_normalized.csv')\n",
    "# Normalisasi fitur-fitur numerik\n",
    "data[numerical_cols] = scaler.fit_transform(data[numerical_cols])\n",
    "\n",
    "# Menyimpan data yang telah dinormalisasi ke dalam file CSV\n",
    "data.to_csv(\"mammographic_mass_knn.csv\", index=False)\n",
    "\n",
    "# Menampilkan 5 baris pertama data setelah normalisasi\n",
    "print(data.head())"
   ]
  },
  {
   "cell_type": "markdown",
   "metadata": {
    "cell_id": "ffc4350f3499418a9673ff7c5392aa93",
    "deepnote_cell_type": "text-cell-h2",
    "formattedRanges": []
   },
   "source": [
    "## Pendeteksian Outlier"
   ]
  },
  {
   "cell_type": "markdown",
   "metadata": {
    "cell_id": "cf28e59e9a4a42ccaa999d52880106a2",
    "deepnote_cell_type": "text-cell-p",
    "formattedRanges": []
   },
   "source": [
    "Outlier/pencilan merupakan data pada dataset yang menyimpang dari data lainnya,mendeteksi outlier perlu agar data yang diolah memberikan hasil yang baik pada model yang akan dibuat nantinya. Outlier dapat diidentifikasi dan ditangani dengan beberapa cara antara lain yang akan kami gunakan yaitu LOF(Local Outlier Factor)."
   ]
  },
  {
   "cell_type": "markdown",
   "metadata": {
    "cell_id": "5ba657ff25ef4d109168466426ffe7dd",
    "deepnote_cell_type": "text-cell-h3",
    "formattedRanges": []
   },
   "source": [
    "### Konsep Local Outlier Factor"
   ]
  },
  {
   "cell_type": "markdown",
   "metadata": {
    "cell_id": "d751cc94452d46d6820c8a5769dc1c45",
    "deepnote_cell_type": "text-cell-p",
    "formattedRanges": []
   },
   "source": [
    "Outlier adalah titik data yang berbeda atau jauh dari titik data lainnya. Local Outlier Factor (LOF) adalah algoritma yang mengidentifikasi outlier yang ada dalam kumpulan data. Ketika suatu titik dianggap sebagai outlier berdasarkan lingkungan lokalnya, maka titik tersebut disebut local outlier. LOF akan mengidentifikasi outlier dengan mempertimbangkan kepadatan lingkungan. LOF bekerja dengan baik ketika kepadatan data tidak sama di seluruh kumpulan data."
   ]
  },
  {
   "cell_type": "markdown",
   "metadata": {
    "cell_id": "0cdf2166aae447609eee6d19eddcaca6",
    "deepnote_cell_type": "text-cell-p",
    "formattedRanges": []
   },
   "source": [
    "Untuk memahami LOF, ada beberapa konsep yang harus dipelajari secara berurutan:"
   ]
  },
  {
   "cell_type": "markdown",
   "metadata": {
    "cell_id": "5a2c74a0c98f4d959f3be24c80b13ac8",
    "deepnote_app_block_visible": true,
    "deepnote_cell_type": "text-cell-bullet",
    "formattedRanges": [],
    "is_collapsed": false
   },
   "source": [
    "- K-distance dan K-neighbors"
   ]
  },
  {
   "cell_type": "markdown",
   "metadata": {
    "cell_id": "4b5d1da8d97c4d009eaef9e4ae28837d",
    "deepnote_app_block_visible": true,
    "deepnote_cell_type": "text-cell-bullet",
    "formattedRanges": [],
    "is_collapsed": false
   },
   "source": [
    "- Reachability Distance (RD)"
   ]
  },
  {
   "cell_type": "markdown",
   "metadata": {
    "cell_id": "29b8b067652c4bbe8fc9a1d79a9c5b04",
    "deepnote_app_block_visible": true,
    "deepnote_cell_type": "text-cell-bullet",
    "formattedRanges": [],
    "is_collapsed": false
   },
   "source": [
    "- Local Reachability Density (LRD)"
   ]
  },
  {
   "cell_type": "markdown",
   "metadata": {
    "cell_id": "867bb031e9544fc5a4bf53691cc01d34",
    "deepnote_app_block_visible": true,
    "deepnote_cell_type": "text-cell-bullet",
    "formattedRanges": [],
    "is_collapsed": false
   },
   "source": [
    "- Local Outlier Factor (LOF)"
   ]
  },
  {
   "cell_type": "markdown",
   "metadata": {
    "cell_id": "380cd50152c34c62aec14f99e1b6f4a0",
    "deepnote_cell_type": "text-cell-p",
    "formattedRanges": [
     {
      "fromCodePoint": 0,
      "marks": {
       "bold": true
      },
      "toCodePoint": 24,
      "type": "marks"
     }
    ]
   },
   "source": [
    "K-distance & K-neighbors"
   ]
  },
  {
   "cell_type": "markdown",
   "metadata": {
    "cell_id": "236dcf517ab34d82922da852f41b9767",
    "deepnote_cell_type": "image",
    "deepnote_img_src": "image-20240624-231723.png"
   },
   "source": [
    "<img src=\"image-20240624-231723.png\" width=\"\" align=\"\" />"
   ]
  },
  {
   "cell_type": "markdown",
   "metadata": {
    "cell_id": "c0bb8ce76dde481b8a347387208eeb8e",
    "deepnote_cell_type": "text-cell-p",
    "formattedRanges": []
   },
   "source": [
    "K-distance adalah jarak antara suatu titik, dan merupakan tetangga terdekat Kᵗʰ. Tetangga K yang dilambangkan dengan Nₖ(A) mencakup himpunan titik yang terletak di dalam atau pada lingkaran berjari-jari jarak K. K-tetangga bisa lebih dari atau sama dengan nilai K. Kita akan melihat contohnya. Katakanlah kita mempunyai empat titik A, B, C, dan D. Jika K=2, K-tetangga A adalah C, B, dan D. Di sini, nilai K=2 tetapi ||N₂(A)|| = 3. Oleh karena itu, ||Nₖ(titik)|| akan selalu lebih besar atau sama dengan K."
   ]
  },
  {
   "cell_type": "markdown",
   "metadata": {
    "cell_id": "73eff5265301453a9837878328266ccd",
    "deepnote_cell_type": "text-cell-p",
    "formattedRanges": [
     {
      "fromCodePoint": 0,
      "marks": {
       "bold": true
      },
      "toCodePoint": 26,
      "type": "marks"
     }
    ]
   },
   "source": [
    "Reachability Distance (RD)"
   ]
  },
  {
   "cell_type": "markdown",
   "metadata": {
    "cell_id": "df4139d4f4c447d987b4104640368829",
    "deepnote_app_block_visible": true,
    "deepnote_cell_type": "image",
    "deepnote_img_src": "reachability-distance.webp"
   },
   "source": [
    "<img src=\"reachability-distance.webp\" width=\"\" align=\"\" />"
   ]
  },
  {
   "cell_type": "markdown",
   "metadata": {
    "cell_id": "2def4a4bbe154a44bfaf01460f798b20",
    "deepnote_app_block_visible": true,
    "deepnote_cell_type": "image",
    "deepnote_img_src": "reachability-distance-diagram.webp"
   },
   "source": [
    "<img src=\"reachability-distance-diagram.webp\" width=\"\" align=\"\" />"
   ]
  },
  {
   "cell_type": "markdown",
   "metadata": {
    "cell_id": "15c2b85468564c4eb68b3eb7e8260006",
    "deepnote_cell_type": "text-cell-p",
    "formattedRanges": []
   },
   "source": [
    "Ini didefinisikan sebagai jarak K maksimum Xj dan jarak antara Xi dan Xj. Ukuran jarak bersifat khusus untuk masalah (Euclidean, Manhattan, dll.) Dalam istilah awam, jika titik Xi terletak di dalam K-tetangga Xj, maka jarak jangkauannya adalah K-jarak Xj (garis biru), jika tidak, jarak jangkauannya adalah jarak antara Xi dan Xj (garis oranye)."
   ]
  },
  {
   "cell_type": "markdown",
   "metadata": {
    "cell_id": "23c47b823db2496180bedcb516dd80ba",
    "deepnote_cell_type": "text-cell-p",
    "formattedRanges": [
     {
      "fromCodePoint": 0,
      "marks": {
       "bold": true
      },
      "toCodePoint": 32,
      "type": "marks"
     }
    ]
   },
   "source": [
    "Local reachability density (LRD)"
   ]
  },
  {
   "cell_type": "markdown",
   "metadata": {
    "cell_id": "88d003c213e44ef5a43574805910b562",
    "deepnote_app_block_visible": true,
    "deepnote_cell_type": "image",
    "deepnote_img_src": "lrd.webp"
   },
   "source": [
    "<img src=\"lrd.webp\" width=\"\" align=\"\" />"
   ]
  },
  {
   "cell_type": "markdown",
   "metadata": {
    "cell_id": "a6b27a45854645ec9aac66733878a5b9",
    "deepnote_cell_type": "text-cell-p",
    "formattedRanges": []
   },
   "source": [
    "LRD merupakan kebalikan dari rata-rata jarak jangkauan A dari tetangganya. Semakin besar jarak jangkauan rata-rata (yaitu, tetangga jauh dari titik tersebut), semakin sedikit kepadatan titik yang ada di sekitar titik tertentu. Ini menunjukkan seberapa jauh suatu titik dari kelompok titik terdekat. Nilai LRD yang rendah menunjukkan bahwa cluster terdekat berada jauh dari titik."
   ]
  },
  {
   "cell_type": "markdown",
   "metadata": {
    "cell_id": "a3aaea82a919474384f6210bd2a03d1d",
    "deepnote_cell_type": "text-cell-p",
    "formattedRanges": [
     {
      "fromCodePoint": 0,
      "marks": {
       "bold": true
      },
      "toCodePoint": 26,
      "type": "marks"
     }
    ]
   },
   "source": [
    "Local Outlier Factor (LOF)"
   ]
  },
  {
   "cell_type": "markdown",
   "metadata": {
    "cell_id": "6a99d0379b584ea4b65024217af3c48a",
    "deepnote_app_block_visible": true,
    "deepnote_cell_type": "image",
    "deepnote_img_src": "lof.webp"
   },
   "source": [
    "<img src=\"lof.webp\" width=\"\" align=\"\" />"
   ]
  },
  {
   "cell_type": "markdown",
   "metadata": {
    "cell_id": "350940b02a674ab39d329408d412b32d",
    "deepnote_cell_type": "text-cell-p",
    "formattedRanges": []
   },
   "source": [
    "LRD tiap titik digunakan untuk membandingkan dengan rata-rata LRD K tetangganya. LOF adalah perbandingan rata-rata LRD K tetangga A terhadap LRD A. Jika suatu titik bukan merupakan pencilan (inlier), rasio rata-rata LRD tetangganya kira-kira sama dengan LRD suatu titik (karena kepadatan suatu titik dan tetangganya kira-kira sama). Dalam hal ini, LOF hampir sama dengan 1. Sebaliknya, jika suatu titik merupakan outlier, LRD suatu titik lebih kecil dari rata-rata LRD tetangganya. Maka nilai LOF akan tinggi. Umumnya jika LOF > 1 maka dianggap outlier, namun hal tersebut tidak selalu benar. Katakanlah kita mengetahui bahwa kita hanya memiliki satu outlier dalam data, lalu kita ambil nilai LOF maksimum di antara semua nilai LOF, dan titik yang sesuai dengan nilai LOF maksimum akan dianggap sebagai outlier."
   ]
  },
  {
   "cell_type": "markdown",
   "metadata": {
    "cell_id": "dac61c7a0e6a45eb8d8efe62f9bf7786",
    "deepnote_cell_type": "text-cell-p",
    "formattedRanges": []
   },
   "source": [
    "Untuk langkah-langkah perhitungan manual Local Outlier Factor (LOF) yaitu :"
   ]
  },
  {
   "cell_type": "markdown",
   "metadata": {
    "cell_id": "b41d1499989e47c1b277ae1d96b846fd",
    "deepnote_app_block_visible": true,
    "deepnote_cell_type": "text-cell-p",
    "formattedRanges": []
   },
   "source": [
    "1. Menghitung jarak dan menentukan tetangga"
   ]
  },
  {
   "cell_type": "markdown",
   "metadata": {
    "cell_id": "ad3a799776b643709c57375786d5f1a9",
    "deepnote_app_block_visible": true,
    "deepnote_cell_type": "text-cell-p",
    "formattedRanges": []
   },
   "source": [
    "2. Menghitung Reachability Distance (RD)"
   ]
  },
  {
   "cell_type": "markdown",
   "metadata": {
    "cell_id": "3245aa9c0bc14ae49c2bf2b42dcfc17e",
    "deepnote_app_block_visible": true,
    "deepnote_cell_type": "text-cell-p",
    "formattedRanges": []
   },
   "source": [
    "3. Menghitung Local Reachability Distance (LRD)"
   ]
  },
  {
   "cell_type": "markdown",
   "metadata": {
    "cell_id": "3c02a993283e40beb30858ce8997c63c",
    "deepnote_app_block_visible": true,
    "deepnote_cell_type": "text-cell-p",
    "formattedRanges": []
   },
   "source": [
    "4. Menghitung Local Outlier Factor (LOF)"
   ]
  },
  {
   "cell_type": "markdown",
   "metadata": {
    "cell_id": "c17c343c4d11459f9f854fa73167d312",
    "deepnote_cell_type": "text-cell-h3",
    "formattedRanges": []
   },
   "source": [
    "### Implementasi Local Outlier Factor dengan Scikit Learn"
   ]
  },
  {
   "cell_type": "markdown",
   "metadata": {
    "cell_id": "1c02675eaff34bc496dffeccccc03fff",
    "deepnote_cell_type": "text-cell-p",
    "formattedRanges": []
   },
   "source": [
    "Sedangkan untuk perhitungan melalui code sebagai berikut:"
   ]
  },
  {
   "cell_type": "code",
   "execution_count": 20,
   "metadata": {
    "cell_id": "b7869f432f2e45dfa9afef1e655636b6",
    "deepnote_cell_type": "code",
    "deepnote_to_be_reexecuted": false,
    "execution_millis": 183,
    "execution_start": 1719416398781,
    "source_hash": "40646d3e"
   },
   "outputs": [
    {
     "name": "stdout",
     "output_type": "stream",
     "text": [
      "===================================== OUTLIER =====================================\n",
      "outlier ditemukan pada baris => 336, kolom => Age\n",
      "outlier ditemukan pada baris => 745, kolom => Margin\n",
      "outlier ditemukan pada baris => 20, kolom => BI-RADS\n",
      "outlier ditemukan pada baris => 589, kolom => Age\n",
      "outlier ditemukan pada baris => 163, kolom => Shape\n",
      "outlier ditemukan pada baris => 614, kolom => Shape\n",
      "outlier ditemukan pada baris => 452, kolom => Margin\n",
      "outlier ditemukan pada baris => 683, kolom => Age\n",
      "outlier ditemukan pada baris => 519, kolom => Shape\n",
      "outlier ditemukan pada baris => 6, kolom => Shape\n",
      "outlier ditemukan pada baris => 923, kolom => Age\n",
      "outlier ditemukan pada baris => 520, kolom => Margin\n",
      "outlier ditemukan pada baris => 20, kolom => Margin\n",
      "outlier ditemukan pada baris => 950, kolom => BI-RADS\n",
      "outlier ditemukan pada baris => 752, kolom => Shape\n",
      "outlier ditemukan pada baris => 614, kolom => Density\n",
      "outlier ditemukan pada baris => 340, kolom => BI-RADS\n",
      "outlier ditemukan pada baris => 356, kolom => Age\n",
      "outlier ditemukan pada baris => 157, kolom => Shape\n",
      "outlier ditemukan pada baris => 476, kolom => Shape\n",
      "outlier ditemukan pada baris => 531, kolom => Shape\n",
      "outlier ditemukan pada baris => 236, kolom => Shape\n",
      "outlier ditemukan pada baris => 533, kolom => BI-RADS\n",
      "outlier ditemukan pada baris => 799, kolom => BI-RADS\n",
      "outlier ditemukan pada baris => 133, kolom => Margin\n",
      "outlier ditemukan pada baris => 34, kolom => Age\n",
      "outlier ditemukan pada baris => 496, kolom => Age\n",
      "outlier ditemukan pada baris => 27, kolom => Margin\n",
      "outlier ditemukan pada baris => 387, kolom => Shape\n",
      "outlier ditemukan pada baris => 443, kolom => Age\n",
      "outlier ditemukan pada baris => 430, kolom => Age\n",
      "outlier ditemukan pada baris => 509, kolom => Age\n",
      "outlier ditemukan pada baris => 84, kolom => Margin\n",
      "outlier ditemukan pada baris => 893, kolom => BI-RADS\n",
      "outlier ditemukan pada baris => 389, kolom => Shape\n",
      "outlier ditemukan pada baris => 83, kolom => Shape\n",
      "outlier ditemukan pada baris => 326, kolom => Age\n",
      "outlier ditemukan pada baris => 691, kolom => Margin\n",
      "outlier ditemukan pada baris => 26, kolom => Density\n",
      "outlier ditemukan pada baris => 519, kolom => Margin\n",
      "outlier ditemukan pada baris => 574, kolom => Margin\n",
      "outlier ditemukan pada baris => 824, kolom => Shape\n",
      "outlier ditemukan pada baris => 208, kolom => BI-RADS\n",
      "outlier ditemukan pada baris => 6, kolom => Margin\n",
      "outlier ditemukan pada baris => 59, kolom => Margin\n",
      "outlier ditemukan pada baris => 131, kolom => Age\n",
      "outlier ditemukan pada baris => 128, kolom => Shape\n",
      "outlier ditemukan pada baris => 186, kolom => Age\n",
      "outlier ditemukan pada baris => 252, kolom => Age\n",
      "outlier ditemukan pada baris => 394, kolom => Shape\n",
      "outlier ditemukan pada baris => 351, kolom => Density\n",
      "outlier ditemukan pada baris => 9, kolom => Shape\n",
      "outlier ditemukan pada baris => 581, kolom => Shape\n",
      "outlier ditemukan pada baris => 188, kolom => Age\n",
      "outlier ditemukan pada baris => 157, kolom => Margin\n",
      "outlier ditemukan pada baris => 662, kolom => Shape\n",
      "outlier ditemukan pada baris => 660, kolom => Shape\n",
      "outlier ditemukan pada baris => 159, kolom => Margin\n",
      "outlier ditemukan pada baris => 850, kolom => Age\n",
      "outlier ditemukan pada baris => 554, kolom => Shape\n",
      "outlier ditemukan pada baris => 315, kolom => Margin\n",
      "outlier ditemukan pada baris => 482, kolom => Age\n",
      "outlier ditemukan pada baris => 35, kolom => Density\n",
      "outlier ditemukan pada baris => 187, kolom => Margin\n",
      "outlier ditemukan pada baris => 54, kolom => Shape\n",
      "outlier ditemukan pada baris => 405, kolom => Age\n",
      "outlier ditemukan pada baris => 387, kolom => Margin\n",
      "outlier ditemukan pada baris => 147, kolom => Margin\n",
      "outlier ditemukan pada baris => 496, kolom => Shape\n",
      "outlier ditemukan pada baris => 388, kolom => Shape\n",
      "outlier ditemukan pada baris => 884, kolom => Age\n",
      "outlier ditemukan pada baris => 20, kolom => Shape\n",
      "outlier ditemukan pada baris => 677, kolom => Density\n",
      "outlier ditemukan pada baris => 371, kolom => Density\n",
      "outlier ditemukan pada baris => 723, kolom => Margin\n",
      "outlier ditemukan pada baris => 100, kolom => Margin\n",
      "outlier ditemukan pada baris => 561, kolom => Shape\n",
      "outlier ditemukan pada baris => 537, kolom => Shape\n",
      "outlier ditemukan pada baris => 48, kolom => Shape\n",
      "outlier ditemukan pada baris => 25, kolom => Age\n",
      "outlier ditemukan pada baris => 394, kolom => Margin\n",
      "outlier ditemukan pada baris => 778, kolom => Shape\n",
      "outlier ditemukan pada baris => 819, kolom => Margin\n",
      "outlier ditemukan pada baris => 810, kolom => Age\n",
      "outlier ditemukan pada baris => 35, kolom => Margin\n",
      "outlier ditemukan pada baris => 101, kolom => Margin\n",
      "outlier ditemukan pada baris => 541, kolom => Margin\n",
      "outlier ditemukan pada baris => 156, kolom => Margin\n",
      "outlier ditemukan pada baris => 453, kolom => Age\n",
      "outlier ditemukan pada baris => 662, kolom => Margin\n",
      "outlier ditemukan pada baris => 661, kolom => Shape\n",
      "outlier ditemukan pada baris => 268, kolom => Age\n",
      "outlier ditemukan pada baris => 74, kolom => Density\n",
      "outlier ditemukan pada baris => 85, kolom => Density\n",
      "outlier ditemukan pada baris => 456, kolom => BI-RADS\n",
      "===================================== DATA =====================================\n",
      "Data pada baris yang mengandung outlier:\n",
      "      BI-RADS   Age     Shape    Margin   Density  Severity\n",
      "336  5.000000  75.0  4.000000  3.000000  3.000000       1.0\n",
      "745  6.000000  76.0  3.000000  3.555556  3.000000       0.0\n",
      "20   3.888889  66.0  2.333333  2.555556  1.000000       1.0\n",
      "589  5.000000  75.0  4.000000  4.000000  3.000000       1.0\n",
      "163  4.000000  53.0  3.111111  4.000000  3.000000       0.0\n",
      "..        ...   ...       ...       ...       ...       ...\n",
      "661  4.000000  51.0  3.111111  4.000000  3.000000       0.0\n",
      "268  5.000000  75.0  4.000000  4.000000  3.000000       1.0\n",
      "74   5.000000  70.0  3.333333  4.000000  3.111111       1.0\n",
      "85   4.000000  33.0  1.000000  1.000000  3.111111       0.0\n",
      "456  0.000000  69.0  4.000000  5.000000  3.000000       1.0\n",
      "\n",
      "[95 rows x 6 columns]\n",
      "==================================== AKURASI ====================================\n",
      "akurasi: 1.0\n"
     ]
    }
   ],
   "source": [
    "from sklearn.neighbors import LocalOutlierFactor\n",
    "from sklearn.metrics import precision_score\n",
    "import matplotlib.pyplot as plt\n",
    "\n",
    "# Membuat model LOF\n",
    "lof = LocalOutlierFactor(n_neighbors=9, contamination=0.03)\n",
    "\n",
    "data1 = data_imputed_df\n",
    "data1 = data1.drop(columns=data1.columns[-1])\n",
    "\n",
    "# Melakukan prediksi outlier untuk setiap fitur\n",
    "outlier_indices = []\n",
    "for column in data1.columns:\n",
    "    # Mengambil nilai fitur\n",
    "    feature_values = data1[column].values.reshape(-1, 1)\n",
    "    # Melakukan prediksi outlier\n",
    "    y_pred = lof.fit_predict(feature_values)\n",
    "    # Menambahkan indeks outlier ke dalam daftar outlier_indices\n",
    "    outlier_indices.extend([(i, column) for i, label in enumerate(y_pred) if label == -1])\n",
    "\n",
    "# Menghilangkan indeks outlier yang duplikat\n",
    "outlier_indices = list(set(outlier_indices))\n",
    "\n",
    "# Menampilkan outlier untuk setiap fitur\n",
    "# for column in data1.columns:\n",
    "#     plt.scatter(range(len(data1[column])), data1[column], label=column)\n",
    "#     plt.scatter(outlier_indices, data1[column].iloc[outlier_indices], color='r', label=\"Outlier\")\n",
    "#     plt.xlabel(\"Index\")\n",
    "#     plt.ylabel(column)\n",
    "#     plt.title(f\"Outlier Detection for {column}\")\n",
    "#     plt.legend()\n",
    "#     plt.show()\n",
    "\n",
    "# Menampilkan indeks outlier yang ditemukan\n",
    "print(\"===================================== OUTLIER =====================================\")\n",
    "for i in outlier_indices:\n",
    "    print(f\"outlier ditemukan pada baris => {i[0]}, kolom => {i[1]}\")\n",
    "\n",
    "# Mengumpulkan indeks baris yang mengandung outlier\n",
    "outlier_row_indices = [index[0] for index in outlier_indices]\n",
    "\n",
    "# Menampilkan data pada baris yang mengandung outlier\n",
    "outlier_data = data_imputed_df.iloc[outlier_row_indices]\n",
    "print(\"===================================== DATA =====================================\")\n",
    "print(\"Data pada baris yang mengandung outlier:\")\n",
    "print(outlier_data)\n",
    "\n",
    "\n",
    "# Mengasumsikan Anda memiliki labels outlier yang sesuai dengan indeks outlier yang Anda temukan\n",
    "# Misalnya, dalam list ini, nilai 1 menunjukkan outlier, dan 0 menunjukkan bukan outlier\n",
    "ground_truth_labels = [1 if i in outlier_row_indices else 0 for i in range(len(data_imputed_df))]\n",
    "\n",
    "# Menghasilkan prediksi outlier berdasarkan outlier_row_indices\n",
    "predicted_labels = [1 if i in outlier_row_indices else 0 for i in range(len(data_imputed_df))]\n",
    "\n",
    "# Menghitung akurasi\n",
    "precision = precision_score(ground_truth_labels, predicted_labels)\n",
    "\n",
    "print(\"==================================== AKURASI ====================================\")\n",
    "print(f\"akurasi: {precision}\")"
   ]
  },
  {
   "cell_type": "markdown",
   "metadata": {
    "cell_id": "3e972538709c4cfdb76560ea9e22881f",
    "deepnote_cell_type": "text-cell-p",
    "formattedRanges": []
   },
   "source": [
    "untuk penanganan outlier tidak kita lakukan dikarenakan data yang terindikasi outlier masih berada di rentang yang normal(tidak melebihi interval)."
   ]
  },
  {
   "cell_type": "markdown",
   "metadata": {
    "cell_id": "a17b5c9413ed433a9513c414723b1191",
    "deepnote_cell_type": "text-cell-p",
    "formattedRanges": []
   },
   "source": [
    "Lalu untuk akurasi pendeteksian outlier memiliki akurasi nilai 1 atau 100% yang bisa dikatakan sempurna."
   ]
  },
  {
   "cell_type": "markdown",
   "metadata": {
    "cell_id": "28b524875793415f830518853d3a640a",
    "deepnote_cell_type": "text-cell-h1",
    "formattedRanges": []
   },
   "source": [
    "# Modelling Klasifikasi Gaussian Naive Bayes"
   ]
  },
  {
   "cell_type": "markdown",
   "metadata": {
    "cell_id": "0a64d5e3f65a48fa923896afc0a747b3",
    "deepnote_cell_type": "text-cell-p",
    "formattedRanges": []
   },
   "source": [
    "Modeling merupakan proses pembuatan dan pengujian model statistik atau matematis yang digunakan untuk menggambarkan dan menganalisis pola atau hubungan dalam data. Tujuan utama dari pemodelan dalam data mining adalah untuk mengidentifikasi pola yang berguna atau prediksi yang akurat dari data yang tersedia.Untuk modelling kali ini bertujuan untuk menentukan class pada suatu data inputan .Data akan dibagi menjadi 2 tipe yaitu data test dan data train dan pemodelan kali ini menggunakan metode Gaussian Naive Bayes."
   ]
  },
  {
   "cell_type": "markdown",
   "metadata": {
    "cell_id": "91c62e3ebdd3476081a3cd71e619b2fb",
    "deepnote_cell_type": "text-cell-p",
    "formattedRanges": []
   },
   "source": [
    "Pada bagian ini akan ditentukan severity dari data yang akan saya inputan apakah termasuk jinak atau ganas."
   ]
  },
  {
   "cell_type": "markdown",
   "metadata": {
    "cell_id": "dfcda0090ee84cc6b01cf35e48f91041",
    "deepnote_cell_type": "text-cell-p",
    "formattedRanges": []
   },
   "source": [
    "cara kalkulasi GNB dapat melalui tahap berikut:"
   ]
  },
  {
   "cell_type": "markdown",
   "metadata": {
    "cell_id": "e1db10a2dd6641b5bfa1520e8361a97f",
    "deepnote_cell_type": "text-cell-p",
    "formattedRanges": [
     {
      "fromCodePoint": 0,
      "marks": {
       "bold": true
      },
      "toCodePoint": 48,
      "type": "marks"
     }
    ]
   },
   "source": [
    "1. Bagi Dataset menjadi data test dan data train"
   ]
  },
  {
   "cell_type": "markdown",
   "metadata": {
    "cell_id": "e043dd3a260140c79ea89be5cd19137a",
    "deepnote_cell_type": "text-cell-p",
    "formattedRanges": []
   },
   "source": [
    "ada dua jenis pembagian rasio dataset yang sering digunakan yaitu:"
   ]
  },
  {
   "cell_type": "markdown",
   "metadata": {
    "cell_id": "19eaaf9628cb456aa84dacfa0a7155d5",
    "deepnote_cell_type": "text-cell-bullet",
    "formattedRanges": []
   },
   "source": [
    "- 80% data train dan 20% data test."
   ]
  },
  {
   "cell_type": "markdown",
   "metadata": {
    "cell_id": "827ec34a49c543d1b03df174889cce13",
    "deepnote_cell_type": "text-cell-bullet",
    "formattedRanges": []
   },
   "source": [
    "- 70% data train dan 30% data test."
   ]
  },
  {
   "cell_type": "markdown",
   "metadata": {
    "cell_id": "a0576c9420794ce082c9b9e1b953c2eb",
    "deepnote_cell_type": "text-cell-p",
    "formattedRanges": []
   },
   "source": [
    "Untuk kali ini kita akan menggunkan raiso 80% data train dan 20% data test,namun kalian bisa mengubahnya tergantung situasi dan kondisi dilapangan nantinya."
   ]
  },
  {
   "cell_type": "markdown",
   "metadata": {
    "cell_id": "35bfd4a04a814c6b9ab30aaff70a7140",
    "deepnote_cell_type": "text-cell-p",
    "formattedRanges": [
     {
      "fromCodePoint": 0,
      "marks": {
       "bold": true
      },
      "toCodePoint": 56,
      "type": "marks"
     }
    ]
   },
   "source": [
    "2. Mengghitung Probabilitas pada data train setiap sheet"
   ]
  },
  {
   "cell_type": "markdown",
   "metadata": {
    "cell_id": "eea9059068964712b7fa9622c1f3cb86",
    "deepnote_cell_type": "text-cell-p",
    "formattedRanges": []
   },
   "source": [
    "lakukan perhitungan probabilitas dari masing-masing kelas sesuai dengan jumlah data train pada kelas tersebut kemudian dibagi dengan banyaknya total data train."
   ]
  },
  {
   "cell_type": "markdown",
   "metadata": {
    "cell_id": "f5cf12f0760e4b8aa919b698339bdec7",
    "deepnote_cell_type": "text-cell-p",
    "formattedRanges": [
     {
      "fromCodePoint": 31,
      "marks": {
       "bold": true
      },
      "toCodePoint": 36,
      "type": "marks"
     }
    ]
   },
   "source": [
    "ini digunakan untuk menghitung Prior"
   ]
  },
  {
   "cell_type": "markdown",
   "metadata": {
    "cell_id": "a8178a5390cb42e59cd4876b1af3c303",
    "deepnote_cell_type": "image",
    "deepnote_img_src": "image-20240625-202938.png"
   },
   "source": [
    "<img src=\"image-20240625-202938.png\" width=\"\" align=\"\" />"
   ]
  },
  {
   "cell_type": "markdown",
   "metadata": {
    "cell_id": "2ba4d1c6c425474c8c1ca379426ec708",
    "deepnote_cell_type": "text-cell-p",
    "formattedRanges": [
     {
      "fromCodePoint": 0,
      "marks": {
       "bold": true
      },
      "toCodePoint": 35,
      "type": "marks"
     }
    ]
   },
   "source": [
    "3. Menghitung Mean dan Standart dev"
   ]
  },
  {
   "cell_type": "markdown",
   "metadata": {
    "cell_id": "74c3aff1049c4f88806fb21a82049592",
    "deepnote_cell_type": "text-cell-p",
    "formattedRanges": []
   },
   "source": [
    "hitung mean dan standart deviasi setiap fitur pada setiap kelas di data train kita "
   ]
  },
  {
   "cell_type": "markdown",
   "metadata": {
    "cell_id": "98506975a4bf45eba91adeac7bd9bd8c",
    "deepnote_cell_type": "text-cell-p",
    "formattedRanges": [
     {
      "fromCodePoint": 0,
      "marks": {
       "bold": true
      },
      "toCodePoint": 33,
      "type": "marks"
     }
    ]
   },
   "source": [
    "5. menghitung Distribusi gaussian"
   ]
  },
  {
   "cell_type": "markdown",
   "metadata": {
    "cell_id": "5f8dc3c17d3f467eae7279a2f9213d50",
    "deepnote_cell_type": "text-cell-p",
    "formattedRanges": []
   },
   "source": [
    "lakukan perhitungan dengan rumus distribusi gaussian dengan rumus sebagai berikut:"
   ]
  },
  {
   "cell_type": "markdown",
   "metadata": {
    "cell_id": "11c1b83361764a53833a38c63c38b344",
    "deepnote_cell_type": "image",
    "deepnote_img_src": "image-20240625-203106.png"
   },
   "source": [
    "<img src=\"image-20240625-203106.png\" width=\"\" align=\"\" />"
   ]
  },
  {
   "cell_type": "markdown",
   "metadata": {
    "cell_id": "13af48d747e84507a1bd4aff9ca17c50",
    "deepnote_cell_type": "image",
    "deepnote_img_src": "image-20240625-203122.png"
   },
   "source": [
    "<img src=\"image-20240625-203122.png\" width=\"\" align=\"\" />"
   ]
  },
  {
   "cell_type": "markdown",
   "metadata": {
    "cell_id": "d538015755584da69aace1abdcac744c",
    "deepnote_cell_type": "text-cell-p",
    "formattedRanges": [
     {
      "fromCodePoint": 0,
      "marks": {
       "bold": true
      },
      "toCodePoint": 19,
      "type": "marks"
     }
    ]
   },
   "source": [
    "6. hitung posterior"
   ]
  },
  {
   "cell_type": "markdown",
   "metadata": {
    "cell_id": "ccc033bf4fb84d2d9fbb46c9c82edf13",
    "deepnote_cell_type": "text-cell-p",
    "formattedRanges": []
   },
   "source": [
    "Setelah didapat semua hasil dari distribusi gaussian, langkah selanjutnya adalah menentukan posteriori-nya. Berikut ini untuk rumusnya:"
   ]
  },
  {
   "cell_type": "markdown",
   "metadata": {
    "cell_id": "4cc0bd1ba4ea4515879964c67a10faad",
    "deepnote_cell_type": "image",
    "deepnote_img_src": "image-20240625-203218.png"
   },
   "source": [
    "<img src=\"image-20240625-203218.png\" width=\"\" align=\"\" />"
   ]
  },
  {
   "cell_type": "markdown",
   "metadata": {
    "cell_id": "3eb613f7c0cb44e4b0d3e3dfeb651770",
    "deepnote_app_block_visible": true,
    "deepnote_cell_type": "text-cell-p",
    "formattedRanges": []
   },
   "source": [
    "P(A|Hi) : hasil perkalian setiap fitur pada setiap kelas"
   ]
  },
  {
   "cell_type": "markdown",
   "metadata": {
    "cell_id": "74245d4f54b444bc87e856b43a722a11",
    "deepnote_app_block_visible": true,
    "deepnote_cell_type": "text-cell-p",
    "formattedRanges": []
   },
   "source": [
    "\n",
    "P(a) : probabilitas setiap kelas"
   ]
  },
  {
   "cell_type": "markdown",
   "metadata": {
    "cell_id": "775c536690f946769096802902d373c4",
    "deepnote_app_block_visible": true,
    "deepnote_cell_type": "text-cell-p",
    "formattedRanges": []
   },
   "source": [
    "posteriori = P(A|Hi) * P(a)"
   ]
  },
  {
   "cell_type": "markdown",
   "metadata": {
    "cell_id": "c6402fb3675943dcbcea3989f27a152f",
    "deepnote_app_block_visible": true,
    "deepnote_cell_type": "text-cell-p",
    "formattedRanges": [
     {
      "fromCodePoint": 0,
      "marks": {
       "bold": true
      },
      "toCodePoint": 29,
      "type": "marks"
     }
    ]
   },
   "source": [
    "7. tentukan maximum posterior"
   ]
  },
  {
   "cell_type": "markdown",
   "metadata": {
    "cell_id": "757d370613f64b8a93e14badf1339a6e",
    "deepnote_app_block_visible": true,
    "deepnote_cell_type": "text-cell-p",
    "formattedRanges": []
   },
   "source": [
    "setelah kita menghitung semua posterior maka dapat kita cari mana yang terbesar"
   ]
  },
  {
   "cell_type": "markdown",
   "metadata": {
    "cell_id": "81bf49eb8faf44e78b37a522ebe296c4",
    "deepnote_app_block_visible": true,
    "deepnote_cell_type": "text-cell-p",
    "formattedRanges": []
   },
   "source": [
    "data posterior paling besar tersebut yang merupakan akan menjadi class dari data yang kita inputkan "
   ]
  },
  {
   "cell_type": "markdown",
   "metadata": {
    "cell_id": "86566ebc556c462dbbaff8c88dd356e9",
    "deepnote_app_block_visible": true,
    "deepnote_cell_type": "text-cell-p",
    "formattedRanges": [
     {
      "fromCodePoint": 0,
      "marks": {
       "bold": true
      },
      "toCodePoint": 5,
      "type": "marks"
     }
    ]
   },
   "source": [
    "MODEL"
   ]
  },
  {
   "cell_type": "markdown",
   "metadata": {
    "cell_id": "0b1ae9ae959244a19ee0ad471981c13c",
    "deepnote_app_block_visible": true,
    "deepnote_cell_type": "text-cell-p",
    "formattedRanges": []
   },
   "source": [
    "berikut model yang telah kita buat untuk mendeteksi kanker payudara"
   ]
  },
  {
   "cell_type": "code",
   "execution_count": 21,
   "metadata": {
    "cell_id": "a25da7148d924a3db4136347a766957c",
    "deepnote_cell_type": "code",
    "deepnote_to_be_reexecuted": false,
    "execution_millis": 275,
    "execution_start": 1719416398829,
    "source_hash": "ed491d0f"
   },
   "outputs": [],
   "source": [
    "import pandas as pd\n",
    "from sklearn.naive_bayes import GaussianNB\n",
    "from sklearn.model_selection import train_test_split\n",
    "from sklearn.metrics import accuracy_score, precision_score, recall_score, f1_score\n",
    "from ucimlrepo import fetch_ucirepo \n",
    "\n",
    "data = pd.read_csv('mammographic_mass_mean.csv')\n",
    "# Menghapus kolom Id, dikarenakan kurang relevan\n",
    "# data.drop(\"unamed column\",axis=1,inplace=True)\n",
    "data.drop(\"Unnamed: 0\",axis=1,inplace=True)\n",
    "\n",
    "# memisahkan atribut dan label\n",
    "X = data[['BI-RADS', 'Age', 'Shape', 'Margin', 'Density']]\n",
    "y = data['Severity']\n",
    " \n",
    "# Membagi dataset menjadi data latih & data uji\n",
    "X_train, X_test, y_train, y_test = train_test_split(X, y, test_size=0.2,random_state=0)\n",
    "\n",
    "# membuat model Gaussian naive bayes\n",
    "gnb_model = GaussianNB()\n",
    " \n",
    "# Melatih model dengan menggunakan data latih\n",
    "gnb_model = gnb_model.fit(X_train, y_train)\n"
   ]
  },
  {
   "cell_type": "code",
   "execution_count": 22,
   "metadata": {
    "cell_id": "c06910989ad1472395c14af6b21b6e92",
    "deepnote_cell_type": "code",
    "deepnote_to_be_reexecuted": false,
    "execution_millis": 195,
    "execution_start": 1719416399066,
    "source_hash": "9ab959dc"
   },
   "outputs": [
    {
     "name": "stdout",
     "output_type": "stream",
     "text": [
      "=========================== X TRAINING =================================\n",
      "     BI-RADS   Age  Shape  Margin  Density\n",
      "751      4.0  32.0    2.0     1.0      3.0\n",
      "363      5.0  49.0    4.0     4.0      3.0\n",
      "62       4.0  57.0    2.0     5.0      3.0\n",
      "79       5.0  67.0    2.0     4.0      1.0\n",
      "653      4.0  35.0    2.0     1.0      3.0\n",
      "..       ...   ...    ...     ...      ...\n",
      "835      5.0  71.0    4.0     5.0      3.0\n",
      "192      5.0  60.0    3.0     1.0      3.0\n",
      "629      4.0  31.0    2.0     1.0      3.0\n",
      "559      5.0  83.0    4.0     5.0      3.0\n",
      "684      5.0  64.0    4.0     3.0      3.0\n",
      "\n",
      "[768 rows x 5 columns]\n",
      "=========================== X TESTING =================================\n",
      "     BI-RADS   Age     Shape  Margin   Density\n",
      "55       4.0  43.0  3.000000     4.0  2.910734\n",
      "852      4.0  45.0  1.000000     1.0  3.000000\n",
      "14       4.0  60.0  2.000000     1.0  2.000000\n",
      "553      4.0  23.0  2.000000     1.0  3.000000\n",
      "141      4.0  55.0  2.000000     1.0  3.000000\n",
      "..       ...   ...       ...     ...       ...\n",
      "940      4.0  48.0  4.000000     4.0  3.000000\n",
      "18       4.0  54.0  1.000000     1.0  3.000000\n",
      "889      6.0  41.0  3.000000     3.0  2.000000\n",
      "496      4.0  82.0  2.721505     5.0  3.000000\n",
      "231      5.0  80.0  4.000000     3.0  3.000000\n",
      "\n",
      "[193 rows x 5 columns]\n",
      "=========================== Y TESTING =================================\n",
      "55     0\n",
      "852    0\n",
      "14     0\n",
      "553    0\n",
      "141    0\n",
      "      ..\n",
      "940    1\n",
      "18     1\n",
      "889    1\n",
      "496    1\n",
      "231    1\n",
      "Name: Severity, Length: 193, dtype: int64\n"
     ]
    }
   ],
   "source": [
    "y_pred = gnb_model.predict(X_test)\n",
    "\n",
    "print(\"=========================== X TRAINING =================================\") \n",
    "print(X_train)\n",
    "print(\"=========================== X TESTING =================================\") \n",
    "print(X_test)\n",
    "print(\"=========================== Y TESTING =================================\") \n",
    "print(y_test)"
   ]
  },
  {
   "cell_type": "markdown",
   "metadata": {
    "cell_id": "857e53895ecc482cb46020344da750f0",
    "deepnote_cell_type": "text-cell-p",
    "formattedRanges": []
   },
   "source": [
    "berikut cara menjadikan data train kita ke dalam bentuk csv."
   ]
  },
  {
   "cell_type": "code",
   "execution_count": 23,
   "metadata": {
    "cell_id": "69523ee45cc5489285107f9b8476ee27",
    "deepnote_cell_type": "code",
    "deepnote_to_be_reexecuted": false,
    "execution_millis": 308,
    "execution_start": 1719416399083,
    "source_hash": "ba3c5715"
   },
   "outputs": [],
   "source": [
    "import pandas as pd\n",
    "\n",
    "# Concatenate X_train and y_train as new column\n",
    "train_data = pd.concat([X_train, pd.Series(y_train, name='Severity')], axis=1)\n",
    "\n",
    "# Save training data to CSV with tab-separated values\n",
    "train_data.to_csv('Train_mammographic_mass.csv', sep=\"\\t\", index=False)"
   ]
  },
  {
   "cell_type": "markdown",
   "metadata": {
    "cell_id": "ea19d99409ee4a7eb485746d695b4302",
    "deepnote_cell_type": "text-cell-p",
    "formattedRanges": []
   },
   "source": [
    "uji coba inputan dengan data test menggunakan model yang kita buat."
   ]
  },
  {
   "cell_type": "code",
   "execution_count": 24,
   "metadata": {
    "cell_id": "6fd3d809b1614701ae23964b322f7a32",
    "deepnote_cell_type": "code",
    "deepnote_to_be_reexecuted": false,
    "execution_millis": 93,
    "execution_start": 1719416399399,
    "source_hash": "5f14fc7e"
   },
   "outputs": [
    {
     "name": "stdout",
     "output_type": "stream",
     "text": [
      "Data yang akan digunakan adalah\n",
      "BI-RADS      5.0\n",
      "Age         80.0\n",
      "Shape        4.0\n",
      "Margin       3.0\n",
      "Density      3.0\n",
      "Severity     1.0\n",
      "Name: 231, dtype: float64\n",
      "data yang diinputkan merupakan class= [1]\n",
      "/shared-libs/python3.9/py/lib/python3.9/site-packages/sklearn/base.py:450: UserWarning: X does not have valid feature names, but GaussianNB was fitted with feature names\n",
      "  warnings.warn(\n"
     ]
    }
   ],
   "source": [
    "print(\"Data yang akan digunakan adalah\")\n",
    "print(data.iloc[231])\n",
    "print(\"data yang diinputkan merupakan class=\",gnb_model.predict([[5, 80, 4, 3, 3]]))"
   ]
  },
  {
   "cell_type": "markdown",
   "metadata": {
    "cell_id": "f4c122f77e1d45569e7888390306e23a",
    "deepnote_cell_type": "text-cell-p",
    "formattedRanges": []
   },
   "source": [
    "dari hasil prediksi data tersebut termasuk ke dalam severity Ganas (1). Jawabannya benar karena data yang diambil merupakan bagian dari data test yang telah dibagi pada model dan termasuk kedalam severity Ganas (1)."
   ]
  },
  {
   "cell_type": "code",
   "execution_count": 25,
   "metadata": {
    "cell_id": "a746137b10984769931fa0edba91d5aa",
    "deepnote_cell_type": "code",
    "deepnote_to_be_reexecuted": false,
    "execution_millis": 77,
    "execution_start": 1719416399415,
    "source_hash": "c6aee695"
   },
   "outputs": [
    {
     "name": "stdout",
     "output_type": "stream",
     "text": [
      "Akurasi: 0.79\n",
      "Presisi: 0.79\n",
      "Recall: 0.81\n",
      "F-Score: 0.80\n"
     ]
    }
   ],
   "source": [
    "# Evaluasi Model\n",
    "accuracy = accuracy_score(y_test, y_pred)\n",
    "precision = precision_score(y_test, y_pred, pos_label=0) \n",
    "recall = recall_score(y_test, y_pred, pos_label=0)\n",
    "fscore = f1_score(y_test, y_pred, pos_label=0)\n",
    "\n",
    "# Menampilkan hasil evaluasi\n",
    "print(f'Akurasi: {accuracy:.2f}')\n",
    "print(f'Presisi: {precision:.2f}')\n",
    "print(f'Recall: {recall:.2f}')\n",
    "print(f'F-Score: {fscore:.2f}')"
   ]
  },
  {
   "cell_type": "markdown",
   "metadata": {
    "cell_id": "42ffe5e9e1f74800b6d226a6eaffc505",
    "deepnote_cell_type": "text-cell-p",
    "formattedRanges": []
   },
   "source": [
    "Dari evaluasi di atas gaussian naive bayes mendapatkan akurasi sebesar 0.80 atau 80%."
   ]
  },
  {
   "cell_type": "markdown",
   "metadata": {
    "cell_id": "89ae0ccee4f74abe811f1ef80da1024a",
    "deepnote_cell_type": "text-cell-h1",
    "formattedRanges": []
   },
   "source": [
    "# Modeling  dengan Support Vector Machine(SVM)"
   ]
  },
  {
   "cell_type": "markdown",
   "metadata": {
    "cell_id": "29dd49b8cd544446945856c797882a02",
    "deepnote_cell_type": "text-cell-p",
    "formattedRanges": []
   },
   "source": [
    "Support Vector Machine (SVM) adalah metode dalam machine learning yang digunakan untuk pemodelan prediktif dan klasifikasi data. Berikut adalah penjelasan singkat tentang SVM. SVM digunakan untuk memisahkan dua kelas data dengan mencari hyperplane (bidang dalam ruang n-dimensi) yang memiliki margin maksimum antara dua kelas tersebut. SVM mencari hyperplane yang memaksimalkan margin, yaitu jarak terdekat antara data paling dekat dari kedua kelas (support vectors) ke hyperplane tersebut. SVM efektif untuk data dengan jumlah fitur besar, cocok untuk data terstruktur, dan mampu menangani data yang tidak seimbang. SVM melakukan optimisasi untuk menemukan hyperplane yang optimal dengan meminimalkan fungsi kerugian dan mengatur parameter seperti C (cost) untuk menyesuaikan trade-off antara margin dan kesalahan klasifikasi."
   ]
  },
  {
   "cell_type": "markdown",
   "metadata": {
    "cell_id": "60d62a4e987a44c5894827ed6528e73d",
    "deepnote_cell_type": "text-cell-p",
    "formattedRanges": []
   },
   "source": [
    "Untuk memisahkan data training dan data testing menggunakan K-fold crossvalidation. K-fold cross-validation digunakan untuk mengukur seberapa baik model machine learning dapat menggeneralisasi dari data pelatihan ke data yang tidak terlihat (data uji)."
   ]
  },
  {
   "cell_type": "markdown",
   "metadata": {
    "cell_id": "0a186b5b5362481c86f8e90bdedb73d4",
    "deepnote_cell_type": "text-cell-p",
    "formattedRanges": []
   },
   "source": [
    "Langkah-langkahnya :"
   ]
  },
  {
   "cell_type": "markdown",
   "metadata": {
    "cell_id": "9e1a7950745147fab4b93dbcc7d2b904",
    "deepnote_cell_type": "text-cell-bullet",
    "formattedRanges": []
   },
   "source": [
    "- Data dibagi menjadi k subset atau fold yang sama ukurannya."
   ]
  },
  {
   "cell_type": "markdown",
   "metadata": {
    "cell_id": "556f03f06e994f4a8414c0f2d71dbe4c",
    "deepnote_cell_type": "text-cell-bullet",
    "formattedRanges": []
   },
   "source": [
    "- Sebagai contoh, jika k = 5, maka data dibagi menjadi 5 bagian dengan ukuran yang sama."
   ]
  },
  {
   "cell_type": "markdown",
   "metadata": {
    "cell_id": "2b2cebe2851d46fcad138df9224d21da",
    "deepnote_cell_type": "text-cell-bullet",
    "formattedRanges": []
   },
   "source": [
    "- Proses evaluasi dilakukan secara iteratif sebanyak k kali."
   ]
  },
  {
   "cell_type": "markdown",
   "metadata": {
    "cell_id": "7572c552aa9f402b8c872ab11c0502cd",
    "deepnote_cell_type": "text-cell-bullet",
    "formattedRanges": []
   },
   "source": [
    "- Pada setiap iterasi, salah satu fold digunakan sebagai data uji, sementara k-1 fold lainnya digunakan sebagai data pelatihan. Setiap iterasi menghasilkan satu nilai metrik evaluasi (misalnya akurasi, presisi, recall, atau F1-score) berdasarkan prediksi pada data uji."
   ]
  },
  {
   "cell_type": "markdown",
   "metadata": {
    "cell_id": "687befe63e6d4d3da6e2718de712a2ed",
    "deepnote_cell_type": "text-cell-bullet",
    "formattedRanges": []
   },
   "source": [
    "- Akhirnya, nilai metrik evaluasi dari k iterasi ini diambil rata-ratanya untuk memberikan estimasi yang lebih baik tentang kinerja model."
   ]
  },
  {
   "cell_type": "markdown",
   "metadata": {
    "cell_id": "008473568bdd4d50b754423be9c38615",
    "deepnote_cell_type": "text-cell-p",
    "formattedRanges": [
     {
      "fromCodePoint": 0,
      "marks": {
       "bold": true
      },
      "toCodePoint": 24,
      "type": "marks"
     }
    ]
   },
   "source": [
    "Implementasi dalam code:"
   ]
  },
  {
   "cell_type": "code",
   "execution_count": 26,
   "metadata": {
    "cell_id": "1f86d8bdac084cacbf91850ae1e296c4",
    "deepnote_cell_type": "code",
    "deepnote_to_be_reexecuted": false,
    "execution_millis": 6829,
    "execution_start": 1719416399437,
    "source_hash": "9f115453"
   },
   "outputs": [
    {
     "name": "stdout",
     "output_type": "stream",
     "text": [
      "Akurasi Fold-1: 0.8247\n",
      "Akurasi Fold-2: 0.7500\n",
      "Akurasi Fold-3: 0.8438\n",
      "Akurasi Fold-4: 0.7708\n",
      "Akurasi Fold-5: 0.7812\n",
      "Akurasi Fold-6: 0.8750\n",
      "Akurasi Fold-7: 0.7812\n",
      "Akurasi Fold-8: 0.8229\n",
      "Akurasi Fold-9: 0.8750\n",
      "Akurasi Fold-10: 0.8229\n"
     ]
    }
   ],
   "source": [
    "import pandas as pd\n",
    "from sklearn.svm import SVC\n",
    "from sklearn.model_selection import StratifiedKFold\n",
    "from sklearn.metrics import accuracy_score\n",
    "\n",
    "# Memisahkan atribut dan label\n",
    "X = data.iloc[:, :-1]  # Semua kolom kecuali kolom terakhir sebagai fitur\n",
    "y = data.iloc[:, -1]   # Kolom terakhir sebagai label\n",
    "\n",
    "# Inisialisasi model SVM\n",
    "svm_model = SVC(kernel='linear', random_state=0)\n",
    "\n",
    "# Menggunakan StratifiedKFold untuk mempertahankan distribusi kelas yang sama pada setiap fold\n",
    "kf = StratifiedKFold(n_splits=10, shuffle=True, random_state=1)\n",
    "\n",
    "# List untuk menyimpan akurasi dan indeks fold\n",
    "accuracy_list = []\n",
    "fold_idx = 0\n",
    "\n",
    "# Loop untuk cross-validation dan mencari fold dengan akurasi tertinggi\n",
    "for train_index, test_index in kf.split(X, y):\n",
    "    X_train, X_test = X.iloc[train_index], X.iloc[test_index]\n",
    "    y_train, y_test = y.iloc[train_index], y.iloc[test_index]\n",
    "    \n",
    "    # Melatih model SVM\n",
    "    svm_model.fit(X_train, y_train)\n",
    "    \n",
    "    # Evaluasi model\n",
    "    y_pred = svm_model.predict(X_test)\n",
    "    accuracy = accuracy_score(y_test, y_pred)\n",
    "    accuracy_list.append(accuracy)\n",
    "    \n",
    "    # Tampilkan akurasi untuk setiap fold\n",
    "    print(f\"Akurasi Fold-{fold_idx + 1}: {accuracy:.4f}\")\n",
    "    \n",
    "    # Jika akurasi tertinggi pada fold ini, simpan data training dan testingnya\n",
    "    if accuracy == max(accuracy_list):\n",
    "        best_fold_train_data = pd.concat([X_train, y_train], axis=1)\n",
    "        best_fold_test_data = pd.concat([X_test, y_test], axis=1)\n",
    "    \n",
    "    fold_idx += 1\n",
    "\n",
    "# Simpan data training dari fold dengan akurasi tertinggi ke dalam file CSV\n",
    "best_fold_train_data.to_csv('best_fold_training_data.csv', index=False)\n",
    "\n",
    "# Simpan data testing dari fold dengan akurasi tertinggi ke dalam file CSV\n",
    "best_fold_test_data.to_csv('best_fold_testing_data.csv', index=False)\n"
   ]
  },
  {
   "cell_type": "code",
   "execution_count": 27,
   "metadata": {
    "cell_id": "0ab069d13aa44093ae613025b7dbe985",
    "deepnote_cell_type": "code",
    "deepnote_to_be_reexecuted": false,
    "execution_millis": 733,
    "execution_start": 1719416406276,
    "source_hash": "5f9fef15"
   },
   "outputs": [
    {
     "name": "stdout",
     "output_type": "stream",
     "text": [
      "Akurasi model : 0.8750\n"
     ]
    }
   ],
   "source": [
    "import pandas as pd\n",
    "from sklearn.svm import SVC\n",
    "from sklearn.metrics import accuracy_score\n",
    "\n",
    "# Memuat kembali data training dan testing\n",
    "train_data = pd.read_csv('best_fold_training_data.csv')\n",
    "test_data = pd.read_csv('best_fold_testing_data.csv')\n",
    "\n",
    "# Memisahkan atribut dan label untuk data training\n",
    "X_train = train_data.iloc[:, :-1]\n",
    "y_train = train_data.iloc[:, -1]\n",
    "\n",
    "# Memisahkan atribut dan label untuk data testing\n",
    "X_test = test_data.iloc[:, :-1]\n",
    "y_test = test_data.iloc[:, -1]\n",
    "\n",
    "# Inisialisasi model SVM\n",
    "svm_model = SVC(kernel='linear', random_state=0)\n",
    "\n",
    "# Melatih model SVM menggunakan data training\n",
    "svm_model.fit(X_train, y_train)\n",
    "\n",
    "# Melakukan prediksi menggunakan data testing\n",
    "y_pred = svm_model.predict(X_test)\n",
    "\n",
    "# Menghitung dan menampilkan akurasi\n",
    "accuracy = accuracy_score(y_test, y_pred)\n",
    "print(f\"Akurasi model : {accuracy:.4f}\")\n"
   ]
  },
  {
   "cell_type": "code",
   "execution_count": 28,
   "metadata": {
    "cell_id": "825e3c712a7d46dd8b4acbe3c9097e7e",
    "deepnote_cell_type": "code",
    "deepnote_to_be_reexecuted": false,
    "execution_millis": 200,
    "execution_start": 1719416407016,
    "source_hash": "cdbcaa49"
   },
   "outputs": [
    {
     "name": "stdout",
     "output_type": "stream",
     "text": [
      "=========================== X TRAINING =================================\n",
      "     BI-RADS   Age  Shape  Margin   Density\n",
      "0        5.0  67.0    3.0     5.0  3.000000\n",
      "1        4.0  43.0    1.0     1.0  2.910734\n",
      "2        5.0  58.0    4.0     5.0  3.000000\n",
      "3        4.0  28.0    1.0     1.0  3.000000\n",
      "4        5.0  74.0    1.0     5.0  2.910734\n",
      "..       ...   ...    ...     ...       ...\n",
      "860      4.0  47.0    2.0     1.0  3.000000\n",
      "861      4.0  56.0    4.0     5.0  3.000000\n",
      "862      4.0  64.0    4.0     5.0  3.000000\n",
      "863      5.0  66.0    4.0     5.0  3.000000\n",
      "864      4.0  62.0    3.0     3.0  3.000000\n",
      "\n",
      "[865 rows x 5 columns]\n",
      "=========================== X TESTING =================================\n",
      "    BI-RADS   Age     Shape    Margin   Density\n",
      "0       4.0  70.0  2.721505  2.796276  3.000000\n",
      "1       3.0  42.0  2.000000  1.000000  3.000000\n",
      "2       4.0  59.0  2.000000  4.000000  3.000000\n",
      "3       5.0  54.0  4.000000  4.000000  3.000000\n",
      "4       4.0  23.0  1.000000  1.000000  2.910734\n",
      "..      ...   ...       ...       ...       ...\n",
      "91      4.0  62.0  2.000000  1.000000  3.000000\n",
      "92      4.0  54.0  1.000000  1.000000  3.000000\n",
      "93      4.0  58.0  4.000000  3.000000  3.000000\n",
      "94      0.0  71.0  4.000000  4.000000  3.000000\n",
      "95      4.0  52.0  4.000000  4.000000  3.000000\n",
      "\n",
      "[96 rows x 5 columns]\n",
      "=========================== Y TESTING =================================\n",
      "0     0\n",
      "1     1\n",
      "2     1\n",
      "3     1\n",
      "4     0\n",
      "     ..\n",
      "91    0\n",
      "92    0\n",
      "93    0\n",
      "94    1\n",
      "95    1\n",
      "Name: Severity, Length: 96, dtype: int64\n"
     ]
    }
   ],
   "source": [
    "print(\"=========================== X TRAINING =================================\") \n",
    "print(X_train)\n",
    "print(\"=========================== X TESTING =================================\") \n",
    "print(X_test)\n",
    "print(\"=========================== Y TESTING =================================\") \n",
    "print(y_test)"
   ]
  },
  {
   "cell_type": "code",
   "execution_count": 29,
   "metadata": {
    "cell_id": "3eac769a62514ee1a5980d256cf0196c",
    "deepnote_cell_type": "code",
    "deepnote_to_be_reexecuted": false,
    "execution_millis": 280,
    "execution_start": 1719416407044,
    "source_hash": "caa1c932"
   },
   "outputs": [
    {
     "name": "stdout",
     "output_type": "stream",
     "text": [
      "Data yang akan digunakan adalah\n",
      "BI-RADS      5.0\n",
      "Age         58.0\n",
      "Shape        4.0\n",
      "Margin       5.0\n",
      "Density      3.0\n",
      "Severity     1.0\n",
      "Name: 2, dtype: float64\n",
      "data yang diinputkan merupakan class= [0]\n",
      "/shared-libs/python3.9/py/lib/python3.9/site-packages/sklearn/base.py:450: UserWarning: X does not have valid feature names, but GaussianNB was fitted with feature names\n",
      "  warnings.warn(\n"
     ]
    }
   ],
   "source": [
    "print(\"Data yang akan digunakan adalah\")\n",
    "print(data.iloc[2])\n",
    "print(\"data yang diinputkan merupakan class=\",gnb_model.predict([[4.0 , 43.0  ,3.000000   ,  4.0 , 2.910734]]))"
   ]
  },
  {
   "cell_type": "markdown",
   "metadata": {
    "cell_id": "01f6b5a228534dc7b04b7ec9c70b8d0a",
    "deepnote_cell_type": "text-cell-h1",
    "formattedRanges": []
   },
   "source": [
    "# Peningkatan Model"
   ]
  },
  {
   "cell_type": "markdown",
   "metadata": {
    "cell_id": "04f3faae4ef84440907393c7f0ecf156",
    "deepnote_cell_type": "text-cell-p",
    "formattedRanges": []
   },
   "source": [
    "Metode ensemble merupakan penggabungan beberapa individual classifier untuk membentuk classifier \n",
    "baru sehingga didapatkan hasil yang lebih akurat. Metode ensemble telah banyak digunakan dalam \n",
    "beberapa penelitian karena terbukti memberikan hasil akurasi yang lebih baik. Dalam metode \n",
    "ensemble, beberapa individual classifier digabungkan dengan tujuan untuk menggabungkan kelebihan dari \n",
    "masing-masing classifier sedemikian rupa sehingga kinerja yang dicapai dalam menyelesaikan tugas \n",
    "menjadi lebih baik. Contoh metode klasifikasi yang umum adalah: bagging, boosting dan stacking. Namun pada kesempatan ini saya hanya menggunakan stacking dan bagging saja untuk peningkatan model."
   ]
  },
  {
   "cell_type": "markdown",
   "metadata": {
    "cell_id": "8a34ff267bb64005939de3a4674b27dc",
    "deepnote_cell_type": "text-cell-h2",
    "formattedRanges": []
   },
   "source": [
    "## Stacking Classifier(Meta Classifier)"
   ]
  },
  {
   "cell_type": "markdown",
   "metadata": {
    "cell_id": "2a2aafa8bccf49418dfaf0027217d06f",
    "deepnote_cell_type": "text-cell-p",
    "formattedRanges": []
   },
   "source": [
    "Stacking melibatkan penggabungan beberapa model berbeda dan menggunakan model yang lebih tinggi (meta-model) untuk menggabungkan hasil prediksi dari model-model tersebut. Stacking memungkinkan untuk memanfaatkan kekuatan berbagai jenis model."
   ]
  },
  {
   "cell_type": "markdown",
   "metadata": {
    "cell_id": "bf4d3ec5d76c4a3881f1204aa62088d6",
    "deepnote_cell_type": "image",
    "deepnote_img_src": "image-20240625-204848.png"
   },
   "source": [
    "<img src=\"image-20240625-204848.png\" width=\"\" align=\"\" />"
   ]
  },
  {
   "cell_type": "markdown",
   "metadata": {
    "cell_id": "09e2cc96ab3549c884eb7db78a6c9445",
    "deepnote_cell_type": "text-cell-p",
    "formattedRanges": []
   },
   "source": [
    "pada stacking saya akan menggunakan model KNN dengan nilai tetangga berbeda-beda sebagai base model kemudian hasil prediksi akan dimasukan ke dalam model GNB sebagai meta model (generalizer) untuk prediksi."
   ]
  },
  {
   "cell_type": "markdown",
   "metadata": {
    "cell_id": "5042b5171ea9469bb003e040f6ee6e45",
    "deepnote_app_block_visible": true,
    "deepnote_cell_type": "text-cell-h3",
    "formattedRanges": [],
    "is_collapsed": false
   },
   "source": [
    "### Cara kerja stacking "
   ]
  },
  {
   "cell_type": "markdown",
   "metadata": {
    "cell_id": "4764ca86d0fd48c8a4d7201b0ccc6a73",
    "deepnote_app_block_visible": true,
    "deepnote_cell_type": "markdown"
   },
   "source": [
    "1. Base Models (Model Dasar):\n",
    "\n",
    "    - Model-model dasar (base models) pertama-tama dilatih menggunakan data pelatihan.\n",
    "    - Setelah dilatih, masing-masing model dasar menghasilkan prediksi.\n",
    "    - Setelah itu gabungkan hasil prediksi sehingga menjadi data baru dan data tersebut akan menjadi data latih dan uji pada meta model"
   ]
  },
  {
   "cell_type": "markdown",
   "metadata": {
    "cell_id": "9dbc29d307fd4e07a1a1e4e910e932d4",
    "deepnote_app_block_visible": true,
    "deepnote_cell_type": "text-cell-p",
    "formattedRanges": [
     {
      "fromCodePoint": 0,
      "marks": {
       "bold": true
      },
      "toCodePoint": 7,
      "type": "marks"
     }
    ]
   },
   "source": [
    "Model A"
   ]
  },
  {
   "cell_type": "markdown",
   "metadata": {
    "cell_id": "ec5b8718977b45bfa868e5f29a3bb49c",
    "deepnote_app_block_visible": true,
    "deepnote_cell_type": "text-cell-p",
    "formattedRanges": []
   },
   "source": [
    "kami melatih model KNN dengan nilai K=9"
   ]
  },
  {
   "cell_type": "code",
   "execution_count": 30,
   "metadata": {
    "cell_id": "b46d75ad747e4c2986ce2b21c1bde66e",
    "deepnote_cell_type": "code",
    "deepnote_to_be_reexecuted": false,
    "execution_millis": 252,
    "execution_start": 1719416407072,
    "source_hash": "787253a4"
   },
   "outputs": [
    {
     "name": "stdout",
     "output_type": "stream",
     "text": [
      "prediksi untuk data baru:  [1.]\n"
     ]
    }
   ],
   "source": [
    "# KNN 1\n",
    "import pandas as pd\n",
    "from sklearn.neighbors import KNeighborsClassifier\n",
    "from sklearn.metrics import confusion_matrix, accuracy_score\n",
    "from sklearn.model_selection import cross_val_score\n",
    "from sklearn.model_selection import train_test_split\n",
    "from sklearn.preprocessing import LabelEncoder\n",
    "import matplotlib.pyplot as plt\n",
    "import seaborn as sns\n",
    "%matplotlib inline\n",
    "\n",
    "df = pd.read_csv('mammographic_mass_knn.csv')\n",
    "df = df.drop(['Unnamed: 0'], axis=1)\n",
    "\n",
    "# Memisahkan fitur dan label\n",
    "feature_columns = ['BI-RADS', 'Age', 'Shape', 'Margin', 'Density']\n",
    "X = df[feature_columns].values\n",
    "y = df['Severity'].values\n",
    "\n",
    "# Membagi data menjadi data latih dan data uji\n",
    "X_train, X_test, y_train, y_test = train_test_split(X, y, test_size=0.2, random_state=0)\n",
    "\n",
    "classifier = KNeighborsClassifier(n_neighbors=9)\n",
    "\n",
    "# TRAIN\n",
    "classifier.fit(X_train, y_train)\n",
    "\n",
    "# Memprediksi data uji\n",
    "xtr1 = classifier.predict(X_train)\n",
    "\n",
    "# TEST\n",
    "classifier = KNeighborsClassifier(n_neighbors=3)\n",
    "\n",
    "# Melatih model\n",
    "classifier.fit(X_test, y_test)\n",
    "\n",
    "x_baru=[[5, 80, 4, 3, 3]]\n",
    "\n",
    "# Memprediksi data uji\n",
    "xts1 = classifier.predict(X_test)\n",
    "xtst_baru=classifier.predict(x_baru)\n",
    "print (\"prediksi untuk data baru: \", xtst_baru)"
   ]
  },
  {
   "cell_type": "markdown",
   "metadata": {
    "cell_id": "c5ea053d4637440796c53658dd472d5d",
    "deepnote_app_block_visible": true,
    "deepnote_cell_type": "text-cell-p",
    "formattedRanges": [
     {
      "fromCodePoint": 0,
      "marks": {
       "bold": true
      },
      "toCodePoint": 7,
      "type": "marks"
     }
    ]
   },
   "source": [
    "Model B"
   ]
  },
  {
   "cell_type": "markdown",
   "metadata": {
    "cell_id": "a0f8b7790a5a42e1b8cb165211db2c3b",
    "deepnote_app_block_visible": true,
    "deepnote_cell_type": "text-cell-p",
    "formattedRanges": []
   },
   "source": [
    "kami melatih model KNN dengan nilai K=5"
   ]
  },
  {
   "cell_type": "code",
   "execution_count": 31,
   "metadata": {
    "cell_id": "6a43a852367545318b977eef3b3e95bd",
    "deepnote_cell_type": "code",
    "deepnote_to_be_reexecuted": false,
    "execution_millis": 108,
    "execution_start": 1719416407261,
    "source_hash": "5ef54f20"
   },
   "outputs": [
    {
     "name": "stdout",
     "output_type": "stream",
     "text": [
      "[1.]\n"
     ]
    }
   ],
   "source": [
    "# KNN 2\n",
    "import pandas as pd\n",
    "from sklearn.neighbors import KNeighborsClassifier\n",
    "from sklearn.metrics import confusion_matrix, accuracy_score\n",
    "from sklearn.model_selection import cross_val_score\n",
    "from sklearn.model_selection import train_test_split\n",
    "from sklearn.preprocessing import LabelEncoder\n",
    "import matplotlib.pyplot as plt\n",
    "import seaborn as sns\n",
    "%matplotlib inline\n",
    "\n",
    "df = pd.read_csv('mammographic_mass_knn.csv')\n",
    "df = df.drop(['Unnamed: 0'], axis=1)\n",
    "\n",
    "# Memisahkan fitur dan label\n",
    "feature_columns = ['BI-RADS', 'Age', 'Shape', 'Margin', 'Density']\n",
    "X = df[feature_columns].values\n",
    "y = df['Severity'].values\n",
    "\n",
    "# Membagi data menjadi data latih dan data uji\n",
    "X_train, X_test, y_train, y_test = train_test_split(X, y, test_size=0.2, random_state=0)\n",
    "\n",
    "classifier2 = KNeighborsClassifier(n_neighbors=5)\n",
    "\n",
    "# TRAIN\n",
    "classifier2.fit(X_train, y_train)\n",
    "\n",
    "# Memprediksi data uji\n",
    "xtr2 = classifier2.predict(X_train)\n",
    "\n",
    "# TEST\n",
    "classifier2 = KNeighborsClassifier(n_neighbors=5)\n",
    "\n",
    "# Melatih model\n",
    "classifier2.fit(X_test, y_test)\n",
    "x_baru=[[5, 80, 4, 3, 3]]\n",
    "\n",
    "# Memprediksi data uji\n",
    "xts2 = classifier2.predict(X_test)\n",
    "xtst2_baru=classifier2.predict(x_baru)\n",
    "print(xtst2_baru)"
   ]
  },
  {
   "cell_type": "markdown",
   "metadata": {
    "cell_id": "68871159e9e8457e9e0fdc497f6809ac",
    "deepnote_cell_type": "text-cell-p",
    "formattedRanges": []
   },
   "source": [
    "Setelah itu, gabungkan hasil prediksi dari kedua model menjadi sebuah dataset baru"
   ]
  },
  {
   "cell_type": "code",
   "execution_count": 32,
   "metadata": {
    "cell_id": "db0f3df956564c2c8154b7acae4e7e30",
    "deepnote_cell_type": "code",
    "deepnote_to_be_reexecuted": false,
    "execution_millis": 259,
    "execution_start": 1719416407380,
    "source_hash": "c78cf0b4"
   },
   "outputs": [],
   "source": [
    "# MODEL A\n",
    "combined_df = pd.DataFrame({\n",
    "    'X1': xtr1,\n",
    "    'X2': xtr2,\n",
    "    'Y': y_train\n",
    "})\n",
    "\n",
    "# Save the DataFrame to a CSV file\n",
    "combined_df.to_csv('combine_train.csv', index=False)"
   ]
  },
  {
   "cell_type": "code",
   "execution_count": 33,
   "metadata": {
    "cell_id": "9fd28f155a9a407098802aca9c248e23",
    "deepnote_cell_type": "code",
    "deepnote_to_be_reexecuted": false,
    "execution_millis": 182,
    "execution_start": 1719416407642,
    "source_hash": "aa6b20"
   },
   "outputs": [],
   "source": [
    "# MODEL B\n",
    "combined_df = pd.DataFrame({\n",
    "    'X1': xts1,\n",
    "    'X2': xts2,\n",
    "    'Y': y_test\n",
    "})\n",
    "\n",
    "# Save the DataFrame to a CSV file\n",
    "combined_df.to_csv('combine_test.csv', index=False)"
   ]
  },
  {
   "cell_type": "code",
   "execution_count": 34,
   "metadata": {
    "cell_id": "8bc65b8364064a0aa2d4a78f2d283773",
    "deepnote_cell_type": "code",
    "deepnote_to_be_reexecuted": false,
    "execution_millis": 237,
    "execution_start": 1719416407833,
    "source_hash": "cc02a53d"
   },
   "outputs": [
    {
     "data": {
      "application/vnd.deepnote.dataframe.v3+json": {
       "column_count": 3,
       "columns": [
        {
         "dtype": "float64",
         "name": "X1",
         "stats": {
          "histogram": [
           {
            "bin_end": 0.1,
            "bin_start": 0,
            "count": 4
           },
           {
            "bin_end": 0.2,
            "bin_start": 0.1,
            "count": 0
           },
           {
            "bin_end": 0.30000000000000004,
            "bin_start": 0.2,
            "count": 0
           },
           {
            "bin_end": 0.4,
            "bin_start": 0.30000000000000004,
            "count": 0
           },
           {
            "bin_end": 0.5,
            "bin_start": 0.4,
            "count": 0
           },
           {
            "bin_end": 0.6000000000000001,
            "bin_start": 0.5,
            "count": 0
           },
           {
            "bin_end": 0.7000000000000001,
            "bin_start": 0.6000000000000001,
            "count": 0
           },
           {
            "bin_end": 0.8,
            "bin_start": 0.7000000000000001,
            "count": 0
           },
           {
            "bin_end": 0.9,
            "bin_start": 0.8,
            "count": 0
           },
           {
            "bin_end": 1,
            "bin_start": 0.9,
            "count": 1
           }
          ],
          "max": "1.0",
          "min": "0.0",
          "nan_count": 0,
          "unique_count": 2
         }
        },
        {
         "dtype": "float64",
         "name": "X2",
         "stats": {
          "histogram": [
           {
            "bin_end": 0.1,
            "bin_start": 0,
            "count": 4
           },
           {
            "bin_end": 0.2,
            "bin_start": 0.1,
            "count": 0
           },
           {
            "bin_end": 0.30000000000000004,
            "bin_start": 0.2,
            "count": 0
           },
           {
            "bin_end": 0.4,
            "bin_start": 0.30000000000000004,
            "count": 0
           },
           {
            "bin_end": 0.5,
            "bin_start": 0.4,
            "count": 0
           },
           {
            "bin_end": 0.6000000000000001,
            "bin_start": 0.5,
            "count": 0
           },
           {
            "bin_end": 0.7000000000000001,
            "bin_start": 0.6000000000000001,
            "count": 0
           },
           {
            "bin_end": 0.8,
            "bin_start": 0.7000000000000001,
            "count": 0
           },
           {
            "bin_end": 0.9,
            "bin_start": 0.8,
            "count": 0
           },
           {
            "bin_end": 1,
            "bin_start": 0.9,
            "count": 1
           }
          ],
          "max": "1.0",
          "min": "0.0",
          "nan_count": 0,
          "unique_count": 2
         }
        },
        {
         "dtype": "float64",
         "name": "Y",
         "stats": {
          "histogram": [
           {
            "bin_end": 0.1,
            "bin_start": 0,
            "count": 3
           },
           {
            "bin_end": 0.2,
            "bin_start": 0.1,
            "count": 0
           },
           {
            "bin_end": 0.30000000000000004,
            "bin_start": 0.2,
            "count": 0
           },
           {
            "bin_end": 0.4,
            "bin_start": 0.30000000000000004,
            "count": 0
           },
           {
            "bin_end": 0.5,
            "bin_start": 0.4,
            "count": 0
           },
           {
            "bin_end": 0.6000000000000001,
            "bin_start": 0.5,
            "count": 0
           },
           {
            "bin_end": 0.7000000000000001,
            "bin_start": 0.6000000000000001,
            "count": 0
           },
           {
            "bin_end": 0.8,
            "bin_start": 0.7000000000000001,
            "count": 0
           },
           {
            "bin_end": 0.9,
            "bin_start": 0.8,
            "count": 0
           },
           {
            "bin_end": 1,
            "bin_start": 0.9,
            "count": 2
           }
          ],
          "max": "1.0",
          "min": "0.0",
          "nan_count": 0,
          "unique_count": 2
         }
        },
        {
         "dtype": "int64",
         "name": "_deepnote_index_column"
        }
       ],
       "row_count": 5,
       "rows": [
        {
         "X1": 0,
         "X2": 0,
         "Y": 0,
         "_deepnote_index_column": 0
        },
        {
         "X1": 1,
         "X2": 1,
         "Y": 1,
         "_deepnote_index_column": 1
        },
        {
         "X1": 0,
         "X2": 0,
         "Y": 0,
         "_deepnote_index_column": 2
        },
        {
         "X1": 0,
         "X2": 0,
         "Y": 0,
         "_deepnote_index_column": 3
        },
        {
         "X1": 0,
         "X2": 0,
         "Y": 1,
         "_deepnote_index_column": 4
        }
       ]
      },
      "text/html": [
       "<div>\n",
       "<style scoped>\n",
       "    .dataframe tbody tr th:only-of-type {\n",
       "        vertical-align: middle;\n",
       "    }\n",
       "\n",
       "    .dataframe tbody tr th {\n",
       "        vertical-align: top;\n",
       "    }\n",
       "\n",
       "    .dataframe thead th {\n",
       "        text-align: right;\n",
       "    }\n",
       "</style>\n",
       "<table border=\"1\" class=\"dataframe\">\n",
       "  <thead>\n",
       "    <tr style=\"text-align: right;\">\n",
       "      <th></th>\n",
       "      <th>X1</th>\n",
       "      <th>X2</th>\n",
       "      <th>Y</th>\n",
       "    </tr>\n",
       "  </thead>\n",
       "  <tbody>\n",
       "    <tr>\n",
       "      <th>0</th>\n",
       "      <td>0.0</td>\n",
       "      <td>0.0</td>\n",
       "      <td>0.0</td>\n",
       "    </tr>\n",
       "    <tr>\n",
       "      <th>1</th>\n",
       "      <td>1.0</td>\n",
       "      <td>1.0</td>\n",
       "      <td>1.0</td>\n",
       "    </tr>\n",
       "    <tr>\n",
       "      <th>2</th>\n",
       "      <td>0.0</td>\n",
       "      <td>0.0</td>\n",
       "      <td>0.0</td>\n",
       "    </tr>\n",
       "    <tr>\n",
       "      <th>3</th>\n",
       "      <td>0.0</td>\n",
       "      <td>0.0</td>\n",
       "      <td>0.0</td>\n",
       "    </tr>\n",
       "    <tr>\n",
       "      <th>4</th>\n",
       "      <td>0.0</td>\n",
       "      <td>0.0</td>\n",
       "      <td>1.0</td>\n",
       "    </tr>\n",
       "  </tbody>\n",
       "</table>\n",
       "</div>"
      ],
      "text/plain": [
       "    X1   X2    Y\n",
       "0  0.0  0.0  0.0\n",
       "1  1.0  1.0  1.0\n",
       "2  0.0  0.0  0.0\n",
       "3  0.0  0.0  0.0\n",
       "4  0.0  0.0  1.0"
      ]
     },
     "execution_count": 34,
     "metadata": {},
     "output_type": "execute_result"
    }
   ],
   "source": [
    "df = pd.read_csv('combine_train.csv')\n",
    "df.head()"
   ]
  },
  {
   "cell_type": "code",
   "execution_count": 35,
   "metadata": {
    "cell_id": "20df6507fc4e455d9b0a14cda7b72d91",
    "deepnote_cell_type": "code",
    "deepnote_to_be_reexecuted": false,
    "execution_millis": 273,
    "execution_start": 1719416407956,
    "source_hash": "687639cd"
   },
   "outputs": [
    {
     "data": {
      "application/vnd.deepnote.dataframe.v3+json": {
       "column_count": 3,
       "columns": [
        {
         "dtype": "float64",
         "name": "X1",
         "stats": {
          "histogram": [
           {
            "bin_end": 0.1,
            "bin_start": 0,
            "count": 4
           },
           {
            "bin_end": 0.2,
            "bin_start": 0.1,
            "count": 0
           },
           {
            "bin_end": 0.30000000000000004,
            "bin_start": 0.2,
            "count": 0
           },
           {
            "bin_end": 0.4,
            "bin_start": 0.30000000000000004,
            "count": 0
           },
           {
            "bin_end": 0.5,
            "bin_start": 0.4,
            "count": 0
           },
           {
            "bin_end": 0.6000000000000001,
            "bin_start": 0.5,
            "count": 0
           },
           {
            "bin_end": 0.7000000000000001,
            "bin_start": 0.6000000000000001,
            "count": 0
           },
           {
            "bin_end": 0.8,
            "bin_start": 0.7000000000000001,
            "count": 0
           },
           {
            "bin_end": 0.9,
            "bin_start": 0.8,
            "count": 0
           },
           {
            "bin_end": 1,
            "bin_start": 0.9,
            "count": 1
           }
          ],
          "max": "1.0",
          "min": "0.0",
          "nan_count": 0,
          "unique_count": 2
         }
        },
        {
         "dtype": "float64",
         "name": "X2",
         "stats": {
          "histogram": [
           {
            "bin_end": 0.1,
            "bin_start": 0,
            "count": 4
           },
           {
            "bin_end": 0.2,
            "bin_start": 0.1,
            "count": 0
           },
           {
            "bin_end": 0.30000000000000004,
            "bin_start": 0.2,
            "count": 0
           },
           {
            "bin_end": 0.4,
            "bin_start": 0.30000000000000004,
            "count": 0
           },
           {
            "bin_end": 0.5,
            "bin_start": 0.4,
            "count": 0
           },
           {
            "bin_end": 0.6000000000000001,
            "bin_start": 0.5,
            "count": 0
           },
           {
            "bin_end": 0.7000000000000001,
            "bin_start": 0.6000000000000001,
            "count": 0
           },
           {
            "bin_end": 0.8,
            "bin_start": 0.7000000000000001,
            "count": 0
           },
           {
            "bin_end": 0.9,
            "bin_start": 0.8,
            "count": 0
           },
           {
            "bin_end": 1,
            "bin_start": 0.9,
            "count": 1
           }
          ],
          "max": "1.0",
          "min": "0.0",
          "nan_count": 0,
          "unique_count": 2
         }
        },
        {
         "dtype": "float64",
         "name": "Y",
         "stats": {
          "histogram": [
           {
            "bin_end": -0.4,
            "bin_start": -0.5,
            "count": 0
           },
           {
            "bin_end": -0.3,
            "bin_start": -0.4,
            "count": 0
           },
           {
            "bin_end": -0.19999999999999996,
            "bin_start": -0.3,
            "count": 0
           },
           {
            "bin_end": -0.09999999999999998,
            "bin_start": -0.19999999999999996,
            "count": 0
           },
           {
            "bin_end": 0,
            "bin_start": -0.09999999999999998,
            "count": 0
           },
           {
            "bin_end": 0.10000000000000009,
            "bin_start": 0,
            "count": 5
           },
           {
            "bin_end": 0.20000000000000007,
            "bin_start": 0.10000000000000009,
            "count": 0
           },
           {
            "bin_end": 0.30000000000000004,
            "bin_start": 0.20000000000000007,
            "count": 0
           },
           {
            "bin_end": 0.4,
            "bin_start": 0.30000000000000004,
            "count": 0
           },
           {
            "bin_end": 0.5,
            "bin_start": 0.4,
            "count": 0
           }
          ],
          "max": "0.0",
          "min": "0.0",
          "nan_count": 0,
          "unique_count": 1
         }
        },
        {
         "dtype": "int64",
         "name": "_deepnote_index_column"
        }
       ],
       "row_count": 5,
       "rows": [
        {
         "X1": 1,
         "X2": 1,
         "Y": 0,
         "_deepnote_index_column": 0
        },
        {
         "X1": 0,
         "X2": 0,
         "Y": 0,
         "_deepnote_index_column": 1
        },
        {
         "X1": 0,
         "X2": 0,
         "Y": 0,
         "_deepnote_index_column": 2
        },
        {
         "X1": 0,
         "X2": 0,
         "Y": 0,
         "_deepnote_index_column": 3
        },
        {
         "X1": 0,
         "X2": 0,
         "Y": 0,
         "_deepnote_index_column": 4
        }
       ]
      },
      "text/html": [
       "<div>\n",
       "<style scoped>\n",
       "    .dataframe tbody tr th:only-of-type {\n",
       "        vertical-align: middle;\n",
       "    }\n",
       "\n",
       "    .dataframe tbody tr th {\n",
       "        vertical-align: top;\n",
       "    }\n",
       "\n",
       "    .dataframe thead th {\n",
       "        text-align: right;\n",
       "    }\n",
       "</style>\n",
       "<table border=\"1\" class=\"dataframe\">\n",
       "  <thead>\n",
       "    <tr style=\"text-align: right;\">\n",
       "      <th></th>\n",
       "      <th>X1</th>\n",
       "      <th>X2</th>\n",
       "      <th>Y</th>\n",
       "    </tr>\n",
       "  </thead>\n",
       "  <tbody>\n",
       "    <tr>\n",
       "      <th>0</th>\n",
       "      <td>1.0</td>\n",
       "      <td>1.0</td>\n",
       "      <td>0.0</td>\n",
       "    </tr>\n",
       "    <tr>\n",
       "      <th>1</th>\n",
       "      <td>0.0</td>\n",
       "      <td>0.0</td>\n",
       "      <td>0.0</td>\n",
       "    </tr>\n",
       "    <tr>\n",
       "      <th>2</th>\n",
       "      <td>0.0</td>\n",
       "      <td>0.0</td>\n",
       "      <td>0.0</td>\n",
       "    </tr>\n",
       "    <tr>\n",
       "      <th>3</th>\n",
       "      <td>0.0</td>\n",
       "      <td>0.0</td>\n",
       "      <td>0.0</td>\n",
       "    </tr>\n",
       "    <tr>\n",
       "      <th>4</th>\n",
       "      <td>0.0</td>\n",
       "      <td>0.0</td>\n",
       "      <td>0.0</td>\n",
       "    </tr>\n",
       "  </tbody>\n",
       "</table>\n",
       "</div>"
      ],
      "text/plain": [
       "    X1   X2    Y\n",
       "0  1.0  1.0  0.0\n",
       "1  0.0  0.0  0.0\n",
       "2  0.0  0.0  0.0\n",
       "3  0.0  0.0  0.0\n",
       "4  0.0  0.0  0.0"
      ]
     },
     "execution_count": 35,
     "metadata": {},
     "output_type": "execute_result"
    }
   ],
   "source": [
    "df2 = pd.read_csv('combine_test.csv')\n",
    "df2.head()"
   ]
  },
  {
   "cell_type": "markdown",
   "metadata": {
    "cell_id": "48e10ecb7dd74497ae87345c23b20114",
    "deepnote_app_block_visible": true,
    "deepnote_cell_type": "markdown"
   },
   "source": [
    "2. Generalizer (Meta-Model):\n",
    "\n",
    "    - Prediksi dari model-model dasar ini kemudian digunakan sebagai fitur (input) untuk melatih model baru yang disebut generalizer atau meta-model.\n",
    "    - Generalizer ini akan belajar dari kombinasi prediksi-prediksi model dasar untuk membuat keputusan akhir yang lebih baik."
   ]
  },
  {
   "cell_type": "code",
   "execution_count": 36,
   "metadata": {
    "cell_id": "bc8230fe2a5a4bfca416e4a41ec7b3cf",
    "deepnote_cell_type": "code",
    "deepnote_to_be_reexecuted": false,
    "execution_millis": 256,
    "execution_start": 1719416408142,
    "source_hash": "60524e5e"
   },
   "outputs": [
    {
     "name": "stdout",
     "output_type": "stream",
     "text": [
      "              precision    recall  f1-score   support\n",
      "\n",
      "         0.0       0.86      0.82      0.84       105\n",
      "         1.0       0.80      0.84      0.82        88\n",
      "\n",
      "    accuracy                           0.83       193\n",
      "   macro avg       0.83      0.83      0.83       193\n",
      "weighted avg       0.83      0.83      0.83       193\n",
      "\n",
      "[1.]\n"
     ]
    }
   ],
   "source": [
    "# GNB\n",
    "import pandas as pd\n",
    "import numpy as np\n",
    "from sklearn.naive_bayes import GaussianNB\n",
    "from sklearn.model_selection import train_test_split\n",
    "from sklearn.metrics import accuracy_score, precision_score, recall_score, f1_score, classification_report\n",
    "\n",
    "# Menggabungkan prediksi dari kedua model KNN sebagai fitur baru\n",
    "f_meta = np.column_stack((xtr1, xtr2))\n",
    "X_test = np.column_stack((xts1, xts2))\n",
    "\n",
    "# Inisialisasi dan pelatihan meta-classifier Naive Bayes\n",
    "meta_classifier = GaussianNB()\n",
    "meta_classifier.fit(f_meta, y_train)\n",
    "predict = meta_classifier.predict(X_test)\n",
    "\n",
    "print(classification_report(predict, y_test))\n",
    "print(meta_classifier.predict([[1, 1]]))"
   ]
  },
  {
   "cell_type": "markdown",
   "metadata": {
    "cell_id": "6d236171b25d478cb1167a1e97171896",
    "deepnote_app_block_visible": true,
    "deepnote_cell_type": "text-cell-h3",
    "formattedRanges": [],
    "is_collapsed": false
   },
   "source": [
    "### Implementasi stacking dengan scikit-learn"
   ]
  },
  {
   "cell_type": "markdown",
   "metadata": {
    "cell_id": "a74e0b675c0d477080508ace92109239",
    "deepnote_app_block_visible": true,
    "deepnote_cell_type": "text-cell-p",
    "formattedRanges": []
   },
   "source": [
    "setelah kita mengetahui proses dari stacking classifier untuk meningkatkan model secara manual, berikutnya kami akan menggunakan bantuan library untuk membantu melatih model dasar, karena kami tidak mungkin melatih model dasar satu persatu, karena kami akan menggunakan 20 model knn sebagai model dasar dengan pembeda adalah nilai K. Dan nantinya prediksi 20 model tersebut akan dimasukkan ke dalam model gaussian naive bayes."
   ]
  },
  {
   "cell_type": "code",
   "execution_count": 37,
   "metadata": {
    "cell_id": "615f71e367604e0ea88e6b8e4c2b135c",
    "deepnote_cell_type": "code",
    "deepnote_to_be_reexecuted": false,
    "execution_millis": 1948,
    "execution_start": 1719416408143,
    "source_hash": "dd972d4f"
   },
   "outputs": [
    {
     "name": "stdout",
     "output_type": "stream",
     "text": [
      "Accuracy of knn1: 0.7772\n",
      "Accuracy of knn2: 0.7720\n",
      "Accuracy of knn3: 0.7927\n",
      "Accuracy of knn4: 0.7824\n",
      "Accuracy of knn5: 0.7720\n",
      "Accuracy of knn6: 0.7720\n",
      "Accuracy of knn7: 0.7876\n",
      "Accuracy of knn8: 0.7927\n",
      "Accuracy of knn9: 0.7876\n",
      "Accuracy of knn10: 0.7927\n",
      "Accuracy of knn11: 0.7979\n",
      "Accuracy of knn12: 0.7979\n",
      "Accuracy of knn13: 0.7979\n",
      "Accuracy of knn14: 0.8031\n",
      "Accuracy of knn15: 0.8083\n",
      "Accuracy of knn16: 0.8031\n",
      "Accuracy of knn17: 0.8083\n",
      "Accuracy of knn18: 0.8031\n",
      "Accuracy of knn19: 0.8031\n",
      "Accuracy of knn20: 0.8031\n"
     ]
    },
    {
     "data": {
      "image/png": "[encoded data removed]",
      "text/plain": [
       "<Figure size 1200x600 with 1 Axes>"
      ]
     },
     "metadata": {
      "image/png": {
       "height": 576,
       "width": 1001
      }
     },
     "output_type": "display_data"
    },
    {
     "name": "stdout",
     "output_type": "stream",
     "text": [
      "Prediction of knn1: 1.0\n",
      "Prediction of knn2: 1.0\n",
      "Prediction of knn3: 1.0\n",
      "Prediction of knn4: 1.0\n",
      "Prediction of knn5: 1.0\n",
      "Prediction of knn6: 1.0\n",
      "Prediction of knn7: 1.0\n",
      "Prediction of knn8: 1.0\n",
      "Prediction of knn9: 1.0\n",
      "Prediction of knn10: 1.0\n",
      "Prediction of knn11: 1.0\n",
      "Prediction of knn12: 1.0\n",
      "Prediction of knn13: 1.0\n",
      "Prediction of knn14: 1.0\n",
      "Prediction of knn15: 1.0\n",
      "Prediction of knn16: 1.0\n",
      "Prediction of knn17: 1.0\n",
      "Prediction of knn18: 1.0\n",
      "Prediction of knn19: 1.0\n",
      "Prediction of knn20: 1.0\n"
     ]
    },
    {
     "data": {
      "image/png": "[encoded data removed]",
      "text/plain": [
       "<Figure size 800x400 with 1 Axes>"
      ]
     },
     "metadata": {
      "image/png": {
       "height": 393,
       "width": 700
      }
     },
     "output_type": "display_data"
    },
    {
     "name": "stdout",
     "output_type": "stream",
     "text": [
      "\n",
      "Prediction for X_new: 1.0\n",
      "\n",
      "Overall Stacking Classifier Performance:\n",
      "Accuracy: 0.7979\n"
     ]
    }
   ],
   "source": [
    "import pandas as pd\n",
    "import numpy as np\n",
    "from sklearn.preprocessing import StandardScaler\n",
    "from sklearn.pipeline import make_pipeline\n",
    "from sklearn.ensemble import StackingClassifier\n",
    "from sklearn.neighbors import KNeighborsClassifier\n",
    "from sklearn.metrics import confusion_matrix, accuracy_score, classification_report\n",
    "from sklearn.model_selection import train_test_split\n",
    "from sklearn.naive_bayes import GaussianNB\n",
    "import matplotlib.pyplot as plt\n",
    "\n",
    "# Load dataset\n",
    "df = pd.read_csv('mammographic_mass_knn.csv')\n",
    "df = df.drop(['Unnamed: 0'], axis=1)\n",
    "\n",
    "# Separate features and labels\n",
    "feature_columns = ['BI-RADS', 'Age', 'Shape', 'Margin', 'Density']\n",
    "X = df[feature_columns].values\n",
    "y = df['Severity'].values\n",
    "\n",
    "# Split data into training and testing sets\n",
    "X_train, X_test, y_train, y_test = train_test_split(X, y, test_size=0.2, random_state=0)\n",
    "\n",
    "# Create list of estimators for StackingClassifier\n",
    "estimators = [('knn' + str(i // 3), KNeighborsClassifier(n_neighbors=i)) for i in range(3, 63, 3)]\n",
    "\n",
    "# Initialize StackingClassifier with GaussianNB as final estimator\n",
    "clf = StackingClassifier(\n",
    "    estimators=estimators, final_estimator=GaussianNB()\n",
    ")\n",
    "\n",
    "# Train StackingClassifier\n",
    "clf.fit(X_train, y_train)\n",
    "\n",
    "# Evaluate accuracy for each KNN model and store the results\n",
    "accuracies = []\n",
    "for name, estimator in estimators:\n",
    "    estimator.fit(X_train, y_train)\n",
    "    y_pred = estimator.predict(X_test)\n",
    "    accuracy = accuracy_score(y_test, y_pred)\n",
    "    print(f\"Accuracy of {name}: {accuracy:.4f}\")\n",
    "    accuracies.append(accuracy)\n",
    "\n",
    "# Plotting the accuracy of each KNN model\n",
    "model_names = [name for name, _ in estimators]\n",
    "plt.figure(figsize=(12, 6))\n",
    "plt.bar(model_names, accuracies, color='skyblue')\n",
    "plt.xlabel('Model')\n",
    "plt.ylabel('Accuracy')\n",
    "plt.title('Accuracy of Each KNN Model on Test Data')\n",
    "plt.xticks(rotation=90)\n",
    "plt.show()\n",
    "\n",
    "# Evaluate predictions for new data point by each KNN model\n",
    "X_new = [[5, 80, 4, 3, 3]]\n",
    "predictions = {}\n",
    "for name, estimator in estimators:\n",
    "    pred = estimator.predict(X_new)[0]\n",
    "    predictions[name] = pred\n",
    "    print(f\"Prediction of {name}: {pred}\")\n",
    "\n",
    "# Counting predictions for each class\n",
    "count_severity_0 = sum(1 for pred in predictions.values() if pred == 0)\n",
    "count_severity_1 = sum(1 for pred in predictions.values() if pred == 1)\n",
    "\n",
    "# Plotting the number of predictions for each class\n",
    "plt.figure(figsize=(8, 4))\n",
    "plt.bar(['Severity 0', 'Severity 1'], [count_severity_0, count_severity_1], color=['lightgreen', 'salmon'])\n",
    "plt.xlabel('Severity')\n",
    "plt.ylabel('Number of Predictions')\n",
    "plt.title('Number of Predictions for Each Class by KNN Models')\n",
    "plt.show()\n",
    "\n",
    "# Predict for new data using StackingClassifier\n",
    "prediction = clf.predict(X_new)\n",
    "\n",
    "print(f'\\nPrediction for X_new: {prediction[0]}')\n",
    "\n",
    "# Evaluate overall performance of the stacking classifier\n",
    "avg_acc = clf.score(X_test, y_test)\n",
    "print(f'\\nOverall Stacking Classifier Performance:')\n",
    "print(f'Accuracy: {avg_acc:.4f}')\n",
    "\n",
    "# Obtain predictions from the model\n",
    "y_pred = clf.predict(X_test)"
   ]
  },
  {
   "cell_type": "markdown",
   "metadata": {
    "cell_id": "8b54f0505e0640228432a88535baf617",
    "deepnote_cell_type": "text-cell-h2",
    "formattedRanges": []
   },
   "source": [
    "## Bagging"
   ]
  },
  {
   "cell_type": "markdown",
   "metadata": {
    "cell_id": "5a8e16bcf6714f5ca72143c7d2383829",
    "deepnote_cell_type": "text-cell-p",
    "formattedRanges": []
   },
   "source": [
    "Bagging melibatkan pembuatan beberapa subset dari data pelatihan dengan penggantian (bootstrap) dan melatih model yang berbeda pada setiap subset. Kemudian, hasil prediksi dari model-model ini diambil rata-rata (untuk regresi) atau diambil mayoritas (untuk klasifikasi)."
   ]
  },
  {
   "cell_type": "markdown",
   "metadata": {
    "cell_id": "2956eb7a522f4b3a926e8f4e9b80c59e",
    "deepnote_cell_type": "image",
    "deepnote_img_src": "image-20240625-212938.png"
   },
   "source": [
    "<img src=\"image-20240625-212938.png\" width=\"\" align=\"\" />"
   ]
  },
  {
   "cell_type": "markdown",
   "metadata": {
    "cell_id": "7778c1ca9ad04cb3b1b874562c01c469",
    "deepnote_app_block_visible": true,
    "deepnote_cell_type": "markdown"
   },
   "source": [
    "Metode bagging bertujuan untuk mengatasi variasi dan overfitting dalam model-machine learning. Bagging melibatkan langkah-langkah berikut:\n",
    "\n",
    "1. Mengambil dataset pelatihan awal yang dimiliki.\n",
    "\n",
    "2. Membuat beberapa set data pelatihan yang berbeda dengan cara mengambil sampel secara acak dari dataset awal. Setiap set data ini mungkin memiliki beberapa data yang sama dan beberapa yang berbeda.\n",
    "\n",
    "3. Model yang sama (classifier) diterapkan pada setiap set data pelatihan ini dan menghasilkan prediksi masing-masing.\n",
    "\n",
    "4. Hasil prediksi dari semua classifier digabungkan.\n",
    "\n",
    "Metode bagging membantu mengurangi variabilitas dalam prediksi karena setiap set data pelatihan memiliki variasi yang berbeda. Variasi ini membuat model lebih stabil dan lebih baik kinerjanya daripada hanya menggunakan satu set data pelatihan saja."
   ]
  },
  {
   "cell_type": "markdown",
   "metadata": {
    "cell_id": "79a32c9544294148b138f0556826e3a6",
    "deepnote_app_block_visible": true,
    "deepnote_cell_type": "text-cell-p",
    "formattedRanges": []
   },
   "source": [
    "pada bagging kami menggunakan 20 gaussian naive bayes yang menerima subset berbeda satu sama lain "
   ]
  },
  {
   "cell_type": "code",
   "execution_count": 38,
   "metadata": {
    "cell_id": "dee6bc15bddf4529b28873009c22f08d",
    "deepnote_cell_type": "code",
    "deepnote_to_be_reexecuted": false,
    "execution_millis": 1184,
    "execution_start": 1719416410119,
    "source_hash": "7b53a55f"
   },
   "outputs": [
    {
     "name": "stdout",
     "output_type": "stream",
     "text": [
      "Data yang baru yang akan diprediksi\n",
      "   BI-RADS  Age  Shape  Margin  Density\n",
      "0        5   80      4       3        3\n",
      "\n",
      "Estimator 1 accuracy : 0.8083\n",
      "Estimator 1 memprediksi : 1\n",
      "\n",
      "Estimator 2 accuracy : 0.5078\n",
      "Estimator 2 memprediksi : 0\n",
      "\n",
      "Estimator 3 accuracy : 0.7876\n",
      "Estimator 3 memprediksi : 1\n",
      "\n",
      "Estimator 4 accuracy : 0.7876\n",
      "Estimator 4 memprediksi : 1\n",
      "\n",
      "Estimator 5 accuracy : 0.8031\n",
      "Estimator 5 memprediksi : 0\n",
      "\n",
      "Estimator 6 accuracy : 0.8342\n",
      "Estimator 6 memprediksi : 0\n",
      "\n",
      "Estimator 7 accuracy : 0.7876\n",
      "Estimator 7 memprediksi : 1\n",
      "\n",
      "Estimator 8 accuracy : 0.8238\n",
      "Estimator 8 memprediksi : 0\n",
      "\n",
      "Estimator 9 accuracy : 0.8135\n",
      "Estimator 9 memprediksi : 0\n",
      "\n",
      "Estimator 10 accuracy : 0.7876\n",
      "Estimator 10 memprediksi : 1\n",
      "\n",
      "Estimator 11 accuracy : 0.7720\n",
      "Estimator 11 memprediksi : 0\n",
      "\n",
      "Estimator 12 accuracy : 0.8135\n",
      "Estimator 12 memprediksi : 1\n",
      "\n",
      "Estimator 13 accuracy : 0.7979\n",
      "Estimator 13 memprediksi : 1\n",
      "\n",
      "Estimator 14 accuracy : 0.8135\n",
      "Estimator 14 memprediksi : 1\n",
      "\n",
      "Estimator 15 accuracy : 0.7461\n",
      "Estimator 15 memprediksi : 1\n",
      "\n",
      "Estimator 16 accuracy : 0.7927\n",
      "Estimator 16 memprediksi : 0\n",
      "\n",
      "Estimator 17 accuracy : 0.8083\n",
      "Estimator 17 memprediksi : 1\n",
      "\n",
      "Estimator 18 accuracy : 0.7513\n",
      "Estimator 18 memprediksi : 0\n",
      "\n",
      "Estimator 19 accuracy : 0.8290\n",
      "Estimator 19 memprediksi : 0\n",
      "\n",
      "Estimator 20 accuracy : 0.7565\n",
      "Estimator 20 memprediksi : 1\n",
      "\n",
      "Majority vote prediction for new data: 1\n",
      "Jumlah prediksi kelas 0: 9\n",
      "Jumlah prediksi kelas 1: 11\n",
      "Average accuracy of all estimators: 0.7811\n"
     ]
    },
    {
     "data": {
      "image/png": "[encoded data removed]",
      "text/plain": [
       "<Figure size 1200x600 with 1 Axes>"
      ]
     },
     "metadata": {
      "image/png": {
       "height": 547,
       "width": 1001
      }
     },
     "output_type": "display_data"
    },
    {
     "data": {
      "image/png": "[encoded data removed]",
      "text/plain": [
       "<Figure size 800x400 with 1 Axes>"
      ]
     },
     "metadata": {
      "image/png": {
       "height": 393,
       "width": 686
      }
     },
     "output_type": "display_data"
    }
   ],
   "source": [
    "import pandas as pd\n",
    "from sklearn.naive_bayes import GaussianNB\n",
    "from sklearn.model_selection import train_test_split\n",
    "from sklearn.metrics import accuracy_score, classification_report\n",
    "import numpy as np\n",
    "\n",
    "# Memuat data\n",
    "data = pd.read_csv('mammographic_mass_knn.csv')\n",
    "\n",
    "# Menghapus kolom yang tidak relevan\n",
    "data.drop(\"Unnamed: 0\", axis=1, inplace=True)\n",
    "\n",
    "# Memisahkan atribut dan label\n",
    "X = data[['BI-RADS', 'Age', 'Shape', 'Margin', 'Density']]\n",
    "y = data['Severity']\n",
    "\n",
    "# Membagi dataset menjadi data latih dan data uji\n",
    "X_train, X_test, y_train, y_test = train_test_split(X, y, test_size=0.2)\n",
    "\n",
    "# Parameter bagging\n",
    "n_estimators = 20\n",
    "n_samples = int(len(X_train) / n_estimators)\n",
    "\n",
    "# Inisialisasi list untuk menyimpan model dan akurasi\n",
    "estimators = []\n",
    "accuracies = []\n",
    "pred = []\n",
    "\n",
    "# Data baru yang ingin diprediksi\n",
    "X_new = pd.DataFrame([[5, 80, 4, 3, 3]], columns=['BI-RADS', 'Age', 'Shape', 'Margin', 'Density'])\n",
    "print(\"Data yang baru yang akan diprediksi\")\n",
    "print(X_new)\n",
    "print()\n",
    "np.random.seed(0)\n",
    "\n",
    "# Membuat model Gaussian Naive Bayes untuk setiap subset\n",
    "for i in range(n_estimators):\n",
    "    # Membuat bootstrap sample\n",
    "    bootstrap_indices = np.random.randint(0, len(X_train), n_samples)\n",
    "    X_train_bootstrap = X_train.iloc[bootstrap_indices]\n",
    "    y_train_bootstrap = y_train.iloc[bootstrap_indices]\n",
    "    \n",
    "    # Melatih model\n",
    "    gnb_model = GaussianNB()\n",
    "    gnb_model.fit(X_train_bootstrap, y_train_bootstrap)\n",
    "    estimators.append(gnb_model)\n",
    "    \n",
    "    # Evaluasi model    \n",
    "    bebas = gnb_model.predict(X_new)\n",
    "    pred.append(bebas[0])  # Mengambil nilai prediksi dan menyimpannya di list pred\n",
    "    y_pred = gnb_model.predict(X_test)\n",
    "    accuracy = accuracy_score(y_test, y_pred)\n",
    "    accuracies.append(accuracy)\n",
    "    print(f\"Estimator {i + 1} accuracy : {accuracy:.4f}\")\n",
    "    print(f\"Estimator {i + 1} memprediksi : {int(bebas[0])}\")\n",
    "    print()\n",
    "\n",
    "# Majority vote untuk prediksi data baru\n",
    "pred_majority_vote = np.bincount(pred).argmax()\n",
    "print(f\"Majority vote prediction for new data: {pred_majority_vote}\")\n",
    "\n",
    "# Menghitung jumlah dari masing-masing kelas dalam pred\n",
    "severity_counts = np.bincount(pred, minlength=5) #5 karena kelas ada 4\n",
    "print(f\"Jumlah prediksi kelas 0: {severity_counts[0] if len(severity_counts) > 0 else 0}\")\n",
    "print(f\"Jumlah prediksi kelas 1: {severity_counts[1] if len(severity_counts) > 1 else 0}\")\n",
    "\n",
    "# Menghitung rata-rata akurasi dari semua estimators\n",
    "average_accuracy = np.mean(accuracies)\n",
    "print(f\"Average accuracy of all estimators: {average_accuracy:.4f}\")\n",
    "\n",
    "# Plot accuracy untuk tiap estimator\n",
    "plt.figure(figsize=(12, 6))\n",
    "plt.bar(range(1, n_estimators + 1), accuracies, color='skyblue')\n",
    "plt.xlabel('Estimator')\n",
    "plt.ylabel('Accuracy')\n",
    "plt.title('Accuracy of Each Gaussian Naive Bayes Estimator')\n",
    "plt.xticks(range(1, n_estimators + 1))\n",
    "plt.show()\n",
    "\n",
    "# Plot the number of predictions pada setiap klass untuk data baru \n",
    "severity_labels = ['Severity 0', 'Severity 1']\n",
    "severity_values = [severity_counts[0] if len(severity_counts) > 0 else 0,\n",
    "                severity_counts[1] if len(severity_counts) > 1 else 0]\n",
    "plt.figure(figsize=(8, 4))\n",
    "plt.bar(severity_labels, severity_values, color=['lightgreen', 'salmon'])\n",
    "plt.xlabel('severity')\n",
    "plt.ylabel('Number of Predictions')\n",
    "plt.title('Number of Predictions for Each Class by Estimators for New Data')\n",
    "plt.show()"
   ]
  },
  {
   "cell_type": "markdown",
   "metadata": {
    "cell_id": "1d1270eaf148449bb1e571b2d948e355",
    "deepnote_cell_type": "text-cell-h1",
    "formattedRanges": []
   },
   "source": [
    "# Evaluasi"
   ]
  },
  {
   "cell_type": "markdown",
   "metadata": {
    "cell_id": "2ccd3a7e4c334c76a7cf113e745b371b",
    "deepnote_cell_type": "text-cell-p",
    "formattedRanges": []
   },
   "source": [
    "Dari ketiga model yang dibuat dapat dilihat akurasi dari masing-masing model, yaitu:"
   ]
  },
  {
   "cell_type": "markdown",
   "metadata": {
    "cell_id": "fb7c7350312e442b96c4eeb47230331d",
    "deepnote_cell_type": "text-cell-bullet",
    "formattedRanges": []
   },
   "source": [
    "- Single model GNB: 80%"
   ]
  },
  {
   "cell_type": "markdown",
   "metadata": {
    "cell_id": "5f614e7a02854fd1a19d34f780f383a8",
    "deepnote_cell_type": "text-cell-bullet",
    "formattedRanges": []
   },
   "source": [
    "- Single model SVM: 87%"
   ]
  },
  {
   "cell_type": "markdown",
   "metadata": {
    "cell_id": "857919c537d14c52af442f07cf2d5e4a",
    "deepnote_cell_type": "text-cell-bullet",
    "formattedRanges": []
   },
   "source": [
    "- Stackking dengan KNN(sebagai model dasar) dan GNB(sebagai meta model): 79%"
   ]
  },
  {
   "cell_type": "markdown",
   "metadata": {
    "cell_id": "59a8b64aeb9d41189244e43a95912f0d",
    "deepnote_cell_type": "text-cell-bullet",
    "formattedRanges": []
   },
   "source": [
    "- Bagging dengan GNB: 75%"
   ]
  },
  {
   "cell_type": "markdown",
   "metadata": {
    "cell_id": "9553fb1fa5274f56883ac18c8cd7a85e",
    "deepnote_cell_type": "text-cell-p",
    "formattedRanges": []
   },
   "source": [
    "Dari ketiga model diatas dapat disimpulkan bahwa single model SVM memiliki akurasi tertinggi yaitu 87%."
   ]
  },
  {
   "cell_type": "markdown",
   "metadata": {
    "cell_id": "a3cdeff39c21488f927b16178d23ced6",
    "deepnote_cell_type": "text-cell-h1",
    "formattedRanges": []
   },
   "source": [
    "# Deployment"
   ]
  },
  {
   "cell_type": "markdown",
   "metadata": {
    "cell_id": "4c27f5762f93407c866e2eca58bf25db",
    "deepnote_cell_type": "text-cell-h2",
    "formattedRanges": []
   },
   "source": [
    "## Menyimpan Model"
   ]
  },
  {
   "cell_type": "markdown",
   "metadata": {
    "cell_id": "52f59029df4f4f82979c67fe803c0ede",
    "deepnote_app_block_visible": true,
    "deepnote_cell_type": "text-cell-p",
    "formattedRanges": []
   },
   "source": [
    "pada tahap ini saya akan menyimpan model dari single model SVM yang sudah dibuat. Tujuan dilakukan penyimpanan model adalah supaya mudah dipanggil ketika akan memasuki tahap deployment. "
   ]
  },
  {
   "cell_type": "markdown",
   "metadata": {
    "cell_id": "07f8c91abdee4526b9b2d308af701fed",
    "deepnote_app_block_visible": true,
    "deepnote_cell_type": "text-cell-p",
    "formattedRanges": []
   },
   "source": [
    "Untuk library yang saya gunakan dalam menyimpan model yaitu joblib."
   ]
  },
  {
   "cell_type": "code",
   "execution_count": 39,
   "metadata": {
    "cell_id": "93ccba2a0fad4d57af1546dd24154d5e",
    "deepnote_cell_type": "code",
    "deepnote_to_be_reexecuted": false,
    "execution_millis": 481,
    "execution_start": 1719416411324,
    "source_hash": "c9d62200"
   },
   "outputs": [
    {
     "data": {
      "text/plain": [
       "['svm_model.pkl']"
      ]
     },
     "execution_count": 39,
     "metadata": {},
     "output_type": "execute_result"
    }
   ],
   "source": [
    "import joblib\n",
    "\n",
    "# Save the model to a file\n",
    "joblib.dump(svm_model, 'svm_model.pkl')\n"
   ]
  },
  {
   "cell_type": "markdown",
   "metadata": {
    "cell_id": "a75cefdebb914b7892d7ee3ec492e6a1",
    "deepnote_cell_type": "text-cell-h2",
    "formattedRanges": []
   },
   "source": [
    "## Integrasi Model Dengan Web"
   ]
  },
  {
   "cell_type": "markdown",
   "metadata": {
    "cell_id": "70c4114b7ca744008e60d5617b0cc2fa",
    "deepnote_cell_type": "text-cell-bullet",
    "formattedRanges": []
   },
   "source": [
    "- install library Streamlit, dengan menjalankan perintah \"pip install streamlit\" pada terminal.\n"
   ]
  },
  {
   "cell_type": "markdown",
   "metadata": {
    "cell_id": "699d95284cab4746850e67e074493124",
    "deepnote_cell_type": "text-cell-bullet",
    "formattedRanges": []
   },
   "source": [
    "- membuat file berekstensi .py, misal app.py."
   ]
  },
  {
   "cell_type": "markdown",
   "metadata": {
    "cell_id": "51f81f29ec3e4c21a3335dc2cf0959fb",
    "deepnote_cell_type": "text-cell-bullet",
    "formattedRanges": []
   },
   "source": [
    "- \n",
    "didalam app.py saya panggil model yang telah disimpan.\n"
   ]
  },
  {
   "cell_type": "markdown",
   "metadata": {
    "cell_id": "38066daf78204b1e8ab15a8662fdac7d",
    "deepnote_cell_type": "text-cell-bullet",
    "formattedRanges": []
   },
   "source": [
    "- setelah itu saya membuat tampilan informasi keterangan tentang inputan dan hasil evaluasi. selain itu saya juga membuat tampilan form untuk user menginputkan data yang akan diprediksi oleh model berserta tampilan untuk hasil prediksi. untuk tampilan saya masukkan code nya didalam file app.py juga, karena dimudahkan oleh library streamlit.\n"
   ]
  },
  {
   "cell_type": "markdown",
   "metadata": {
    "cell_id": "058383a0001f41a3ac006ac5ba944c37",
    "deepnote_cell_type": "text-cell-p",
    "formattedRanges": []
   },
   "source": [
    "Source code yang telah saya buat dapat diakses melalui link berikut :"
   ]
  },
  {
   "cell_type": "markdown",
   "metadata": {
    "cell_id": "54561c19aeb746e2b6098d8893d05b8e",
    "deepnote_cell_type": "text-cell-p",
    "formattedRanges": [
     {
      "fromCodePoint": 0,
      "ranges": [],
      "toCodePoint": 52,
      "type": "link",
      "url": "https://github.com/UmarMuchtar/datamining_uas_deploy.git"
     }
    ]
   },
   "source": [
    "https://github.com/UmarMuchtar/datamining_uas_deploy"
   ]
  },
  {
   "cell_type": "markdown",
   "metadata": {
    "cell_id": "b0c0ab6749f04ca39cb06d4c296de3f7",
    "deepnote_cell_type": "text-cell-h2",
    "formattedRanges": []
   },
   "source": [
    "## Hasil Web"
   ]
  },
  {
   "cell_type": "markdown",
   "metadata": {
    "cell_id": "4e37cac6dd804cb79d7ecfbd3516ac63",
    "deepnote_cell_type": "text-cell-p",
    "formattedRanges": [
     {
      "fromCodePoint": 10,
      "ranges": [],
      "toCodePoint": 52,
      "type": "link",
      "url": "https://datamininguasdeploy.streamlit.app/"
     }
    ]
   },
   "source": [
    "link web: https://datamininguasdeploy.streamlit.app/"
   ]
  },
  {
   "cell_type": "markdown",
   "metadata": {
    "cell_id": "94b8d2b184d449beb2fd63de23f21fce",
    "deepnote_cell_type": "text-cell-p",
    "formattedRanges": []
   },
   "source": [
    "Berikut adalah hasil dari webnya. Terdapat form untuk memasukkan fitur-fitur yang nantinya akan diprediksi."
   ]
  },
  {
   "cell_type": "markdown",
   "metadata": {
    "cell_id": "b8fdd727cea54942a67353e504e5cf1e",
    "deepnote_cell_type": "image",
    "deepnote_img_src": "image-20240626-225657.png"
   },
   "source": [
    "<img src=\"image-20240626-225657.png\" width=\"\" align=\"\" />"
   ]
  },
  {
   "cell_type": "markdown",
   "metadata": {
    "cell_id": "9b8153570c4243729a385dc856156761",
    "deepnote_cell_type": "text-cell-p",
    "formattedRanges": []
   },
   "source": [
    "Dan ini contoh hasil prediksinya."
   ]
  },
  {
   "cell_type": "markdown",
   "metadata": {
    "cell_id": "b5ec12772b3c4418a5365d701babc434",
    "deepnote_cell_type": "image",
    "deepnote_img_src": "image-20240626-225520.png"
   },
   "source": [
    "<img src=\"image-20240626-225520.png\" width=\"\" align=\"\" />"
   ]
  },
  {
   "cell_type": "markdown",
   "metadata": {
    "created_in_deepnote_cell": true,
    "deepnote_cell_type": "markdown"
   },
   "source": [
    "<a style='text-decoration:none;line-height:16px;display:flex;color:#5B5B62;padding:10px;justify-content:end;' href='https://deepnote.com?utm_source=created-in-deepnote-cell&projectId=10f34dbf-f1b5-4020-982c-747e5c0a34e1' target=\"_blank\">\n",
    "<img alt='Created in deepnote.com' style='display:inline;max-height:16px;margin:0px;margin-right:7.5px;' src='data:image/svg+xml;base64,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' > </img>\n",
    "Created in <span style='font-weight:600;margin-left:4px;'>Deepnote</span></a>"
   ]
  }
 ],
 "metadata": {
  "deepnote_execution_queue": [],
  "deepnote_notebook_id": "a1753b2b43e54b9782a7eb6eeaf13347",
  "language_info": {
   "name": "python"
  }
 },
 "nbformat": 4,
 "nbformat_minor": 0
}
